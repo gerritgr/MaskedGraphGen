{
  "cells": [
    {
      "cell_type": "markdown",
      "metadata": {
        "id": "view-in-github",
        "colab_type": "text"
      },
      "source": [
        "<a href=\"https://colab.research.google.com/github/gerritgr/MaskedGraphGen/blob/main/notebook.ipynb\" target=\"_parent\"><img src=\"https://colab.research.google.com/assets/colab-badge.svg\" alt=\"Open In Colab\"/></a>"
      ]
    },
    {
      "cell_type": "markdown",
      "metadata": {
        "id": "ulnOzsCCmA8g"
      },
      "source": [
        "\n",
        "# <img src=\"https://mario.wiki.gallery/images/thumb/8/89/MPS_Toad_Artwork.png/170px-MPS_Toad_Artwork.png\" alt=\"Dataset Summary\" width=\"3%\">  Batched Toad  <img src=\"https://mario.wiki.gallery/images/thumb/8/89/MPS_Toad_Artwork.png/170px-MPS_Toad_Artwork.png\" alt=\"Dataset Summary\" width=\"3%\"> \n"
      ]
    },
    {
      "cell_type": "markdown",
      "metadata": {
        "id": "rCWLJT5DLH78"
      },
      "source": [
        "Todos:\n",
        "- weightes sampling\n",
        "- multi-channel\n",
        "- uncertainty\n",
        "- better ensable like skip one during training or learn weights\n",
        "- to make network better: virutal node, degree input, spectral input, edge features"
      ]
    },
    {
      "cell_type": "markdown",
      "metadata": {
        "id": "x-k6-4CDmEwH"
      },
      "source": [
        "## Setup"
      ]
    },
    {
      "cell_type": "code",
      "execution_count": null,
      "metadata": {
        "id": "Csn1_ff8mJCE"
      },
      "outputs": [],
      "source": [
        "import sys, os\n",
        "IN_COLAB = 'google.colab' in sys.modules\n",
        "if IN_COLAB:\n",
        "  os.system(\"pip install wandb -Uq\")\n",
        "  #!pip install torch==1.8.0+cu111 torchvision==0.9.0+cu111 torchaudio==0.8.0 -f https://download.pytorch.org/whl/torch_stable.html\n",
        "  #os.system(\"pip install pyg_lib torch_scatter torch_sparse torch_cluster torch_spline_conv torch_geometric -f https://data.pyg.org/whl/torch-1.13.0+cu117.html\")\n",
        "  os.system(\"pip install -q torch-scatter -f https://data.pyg.org/whl/torch-${TORCH}.html\")\n",
        "  os.system(\"pip install -q torch-sparse -f https://data.pyg.org/whl/torch-${TORCH}.html\")\n",
        "  os.system(\"pip install -q git+https://github.com/pyg-team/pytorch_geometric.git\")\n",
        "\n",
        "\n",
        "PATH_TO_NOTEBOOK = \"Batched Toad 3.ipynb\"\n",
        "PROJECT_NAME = \"toad_prepost_docker\"\n",
        "KEY = \"\""
      ]
    },
    {
      "cell_type": "code",
      "execution_count": null,
      "metadata": {
        "id": "cN9PW__MvfFk"
      },
      "outputs": [],
      "source": [
        "def get_wand_api_key():\n",
        "  api_key = KEY\n",
        "  # use   echo \"your_api_key_here\" > ~/api_key.txt   to write the api key to the home file dir    \n",
        "  if api_key != \"\":\n",
        "    return api_key\n",
        "  home_dir = os.path.expanduser('~')\n",
        "  file_path = os.path.join(home_dir, 'api_key.txt')\n",
        "  with open(file_path, 'r') as file:\n",
        "      api_key = file.read().strip()\n",
        "  return api_key\n"
      ]
    },
    {
      "cell_type": "markdown",
      "metadata": {
        "id": "mUcQ44Bj42GY"
      },
      "source": [
        "## Imports"
      ]
    },
    {
      "cell_type": "code",
      "execution_count": null,
      "metadata": {
        "id": "nKbKpbiSmMfW"
      },
      "outputs": [],
      "source": [
        "#%matplotlib inline\n",
        "import matplotlib.pyplot as plt\n",
        "plt.rcParams['figure.dpi'] = 100 # Set this to 300 to get better image quality\n",
        "from PIL import Image # We use PIL to load images\n",
        "import seaborn as sns\n",
        "import imageio # to generate .gifs\n",
        "\n",
        "# always good to have\n",
        "import glob, random, os, traceback\n",
        "import numpy as np\n",
        "import networkx as nx\n",
        "import math\n",
        "\n",
        "# the typical pytorch imports\n",
        "import torch\n",
        "from torch.utils.data import DataLoader\n",
        "import torch.nn.functional as F\n",
        "from torch import nn\n",
        "from torch.optim import Adam\n",
        "from torch.nn import Linear as Lin\n",
        "from torch.nn import Sequential as Seq\n",
        "from torch.nn import Linear\n",
        "import torch.nn.functional as F\n",
        "\n",
        "# PyG\n",
        "import torch_geometric\n",
        "from torch_geometric.data import Data\n",
        "from torch_geometric.utils import erdos_renyi_graph, to_networkx, from_networkx\n",
        "from torch_geometric.nn import GINConv\n",
        "from torch_geometric.nn import GCNConv\n",
        "from torch_geometric.nn import global_mean_pool, global_add_pool\n",
        "from torch_geometric.loader import DataLoader\n",
        "\n",
        "#Video\n",
        "from PIL import Image, ImageDraw\n",
        "#import cv2\n",
        "from IPython.display import HTML\n",
        "from base64 import b64encode"
      ]
    },
    {
      "cell_type": "markdown",
      "metadata": {
        "id": "SAyrOuvomPAE"
      },
      "source": [
        "## Hyperparameters"
      ]
    },
    {
      "cell_type": "code",
      "execution_count": null,
      "metadata": {
        "colab": {
          "base_uri": "https://localhost:8080/"
        },
        "id": "ZaElc28pmSzf",
        "outputId": "37b2616e-7711-4a3a-abf0-1d8e93de313b"
      },
      "outputs": [
        {
          "data": {
            "text/plain": [
              "device(type='cuda')"
            ]
          },
          "execution_count": 4,
          "metadata": {},
          "output_type": "execute_result"
        }
      ],
      "source": [
        "NUM_NODES = 12 #12   \n",
        "DEGREE = 3 #3\n",
        "NUM_EPOCHS = 2000\n",
        "\n",
        "NUM_SAMPLES = 1000\n",
        "NUM_GRAPHS_GENERATE = 10\n",
        "\n",
        "NO_EDGE_INDICATOR = 3.0\n",
        "EDGE_INDICATOR = 1.0 \n",
        "DUMMY = 0.0 # this node is an actual node not a placeholder for an edge\n",
        "MASK = 2.0\n",
        "NUM_CLASSES = 4  #todo change to 5 an\n",
        "\n",
        "EPSILON = 0.000000001\n",
        "\n",
        "NODE_FEATURE_EXTEND = 3\n",
        "\n",
        "BATCH_SIZE_TEST = 10\n",
        "#TIME_EMBEDDING_DIM = 1\n",
        "\n",
        "DEVICE = torch.device('cuda' if torch.cuda.is_available() else 'cpu')\n",
        "#DEVICE = torch.device('cpu')\n",
        "DEVICE\n"
      ]
    },
    {
      "cell_type": "markdown",
      "metadata": {
        "id": "qWpdimGn3fDH"
      },
      "source": [
        "### Seeds"
      ]
    },
    {
      "cell_type": "code",
      "execution_count": null,
      "metadata": {
        "id": "eCtxrGI4mVz2"
      },
      "outputs": [],
      "source": [
        "# from stack overflow\n",
        "def str_to_float(s, encoding=\"utf-8\"):\n",
        "  from zlib import crc32\n",
        "  def bytes_to_float(b):\n",
        "    return float(crc32(b) & 0xffffffff) / 2**32\n",
        "  return bytes_to_float(s.encode(encoding))\n",
        "\n",
        "    \n",
        "def set_seeds(seed=42):\n",
        "  if not \"int\" in str(type(seed)):\n",
        "    seed = int(str_to_float(str(seed))*1000 % 100000000)\n",
        "  np.random.seed(seed)\n",
        "  torch.random.manual_seed(seed)\n",
        "  random.seed(seed)\n",
        "  torch.cuda.manual_seed_all(seed)\n",
        "  os.environ['PYTHONHASHSEED'] = str(seed)\n",
        "  torch.backends.cudnn.deterministic = True\n",
        "\n",
        "set_seeds()"
      ]
    },
    {
      "cell_type": "markdown",
      "metadata": {
        "id": "32hyXlJG8360"
      },
      "source": [
        "## Weights and Biases Config"
      ]
    },
    {
      "cell_type": "code",
      "execution_count": null,
      "metadata": {
        "colab": {
          "base_uri": "https://localhost:8080/"
        },
        "id": "i_pixfTW84rq",
        "outputId": "8d623dfc-5a65-4408-a603-ff4aa75f58b8"
      },
      "outputs": [
        {
          "name": "stderr",
          "output_type": "stream",
          "text": [
            "\u001b[34m\u001b[1mwandb\u001b[0m: Currently logged in as: \u001b[33mgerritgr\u001b[0m (\u001b[33mnextaid\u001b[0m). Use \u001b[1m`wandb login --relogin`\u001b[0m to force relogin\n",
            "\u001b[34m\u001b[1mwandb\u001b[0m: \u001b[33mWARNING\u001b[0m If you're specifying your api key in code, ensure this code is not shared publicly.\n",
            "\u001b[34m\u001b[1mwandb\u001b[0m: \u001b[33mWARNING\u001b[0m Consider setting the WANDB_API_KEY environment variable, or running `wandb login` from the command line.\n",
            "\u001b[34m\u001b[1mwandb\u001b[0m: Appending key for api.wandb.ai to your netrc file: /root/.netrc\n"
          ]
        },
        {
          "name": "stdout",
          "output_type": "stream",
          "text": [
            "{'method': 'random',\n",
            " 'metric': {'goal': 'minimize', 'name': 'graph-unmasking/gen-loss'},\n",
            " 'name': 'graph-unmasking',\n",
            " 'parameters': {'batch_size': {'values': [25, 50, 100]},\n",
            "                'candidate_selection_radius': {'values': [1]},\n",
            "                'dropout': {'values': [0.0]},\n",
            "                'graph_transform': {'values': [True]},\n",
            "                'hidden_dim': {'values': [16, 32]},\n",
            "                'hidden_layer': {'values': [4, 5, 6]},\n",
            "                'learning_rate': {'values': [5e-05, 0.0001, 0.0005]},\n",
            "                'loss': {'values': ['bce', 'l2']},\n",
            "                'model': {'values': ['pna']},\n",
            "                'noise_probability': {'values': [0.05]},\n",
            "                'normalization': {'values': [True, False]},\n",
            "                'pre_post_layers': {'values': [1, 3]},\n",
            "                'single_pass': {'values': [True, False]},\n",
            "                'towers': {'values': [1, 2, 5]}}}\n"
          ]
        }
      ],
      "source": [
        "import wandb\n",
        "wandb.login(key=get_wand_api_key())\n",
        "\n",
        "sweep_config = {\n",
        "    \"name\": \"graph-unmasking\",\n",
        "    \"method\": \"random\",\n",
        "    \"metric\": {\n",
        "        \"name\": \"graph-unmasking/gen-loss\",\n",
        "        \"goal\": \"minimize\",\n",
        "    },\n",
        "    \"parameters\": {\n",
        "        \"batch_size\": {\"values\": [50, 100, 200, 500]},  # write only\n",
        "        \"hidden_dim\": {\"values\": [16,32]},  \n",
        "        \"hidden_layer\": {\"values\": [4,5,6]},\n",
        "        \"learning_rate\": {\"values\": [0.00005,0.0001,0.0005]},\n",
        "        \"dropout\": {\"values\": [0.0]},\n",
        "        \"normalization\": {\"values\": [True, False]},\n",
        "        \"model\": {\"values\": [\"pna\"]},  # [ \"pnamulti\", \"pna\",\"pna2\", \"attention\",\"transformer\", \"unet\"]}, \n",
        "        \"candidate_selection_radius\": {\"values\": [1, 5]},\n",
        "        \"loss\": {\"values\": [\"bce\"]},   # \"loss\": {\"values\": [\"l2\",\"l1\", \"bce\"]}, \n",
        "        \"single_pass\": {\"values\": [True]},  \n",
        "        \"towers\": {\"values\": [1, 2,5]},   \n",
        "        \"noise_probability\": {\"values\": [0.0, 0.01, 0.05]},\n",
        "        \"graph_transform\": {\"values\": [True, False]},    \n",
        "        \"pre_post_layers\": {\"values\": [1,3]}, \n",
        "    },\n",
        "}\n",
        "\n",
        "import pprint\n",
        "pprint.pprint(sweep_config)\n",
        "torch.set_printoptions(threshold=1000)"
      ]
    },
    {
      "cell_type": "markdown",
      "metadata": {
        "id": "dQyrEbzkmMCL"
      },
      "source": [
        "## Utils"
      ]
    },
    {
      "cell_type": "code",
      "execution_count": null,
      "metadata": {
        "id": "9_zto3HQmp5v"
      },
      "outputs": [],
      "source": [
        "def lift_nx_to_pyg(g_nx):\n",
        "  import torch_geometric.transforms as T\n",
        "  transform = T.Compose([T.ToUndirected()])\n",
        "\n",
        "  # g_nx has to have node_labels 0 ... number_of_nodes-1\n",
        "  num_nodes = g_nx.number_of_nodes()\n",
        "  g_complete_nx = nx.complete_graph(num_nodes)\n",
        "\n",
        "  edges_new = list()\n",
        "  node_value_dict = dict()\n",
        "  for v1, v2 in g_complete_nx.edges():\n",
        "    v3 = (v1+1)*10000+(v2+1)*100000000000\n",
        "    edges_new.append((v1, v3))\n",
        "    edges_new.append((v2, v3))\n",
        "    node_value_dict[v1] = DUMMY\n",
        "    node_value_dict[v2] = DUMMY\n",
        "    node_value_dict[v3] = EDGE_INDICATOR if g_nx.has_edge(v1,v2) else NO_EDGE_INDICATOR\n",
        "\n",
        "  graph_new = nx.from_edgelist(edges_new)\n",
        "  for node, x_value in node_value_dict.items():\n",
        "    graph_new.nodes[node]['x'] = x_value\n",
        "\n",
        "  graph_new = nx.convert_node_labels_to_integers(graph_new, ordering='sorted')\n",
        "\n",
        "  g = from_networkx(graph_new, group_node_attrs=['x'])\n",
        "  g = transform(g)  # probably unnecs.\n",
        "  return g\n",
        "\n",
        "\n",
        "def reduce_nx_graph(g_old):\n",
        "  g_new = nx.Graph()\n",
        "  for v_i in g_old.nodes():\n",
        "    if g_old.nodes[v_i]['x'] == DUMMY:\n",
        "      g_new.add_node(v_i)\n",
        "      g_new.nodes[v_i]['x'] = DUMMY\n",
        "\n",
        "  for v_i in g_old.nodes():\n",
        "    if g_old.nodes[v_i]['x'] == EDGE_INDICATOR:\n",
        "      neigh_list = list(g_old.neighbors(v_i))\n",
        "      assert(len(neigh_list) == 2)\n",
        "      g_new.add_edge(neigh_list[0], neigh_list[1])\n",
        "\n",
        "  return g_new\n",
        "\n",
        "def draw_pyg(g_pyg, ax = None, filename = None):\n",
        "  if ax is None:\n",
        "    plt.clf()\n",
        "  g_nx = to_networkx(g_pyg, node_attrs=['x'], to_undirected=True,)\n",
        "\n",
        "  g_nx = reduce_nx_graph(g_nx)\n",
        "\n",
        "  node_labels = {i: g_nx.nodes[i]['x'] for i in g_nx.nodes}\n",
        "  pos = nx.spring_layout(g_nx, seed=1234)\n",
        "  try:\n",
        "    nx.draw(g_nx, with_labels = True, labels=node_labels, ax=ax, pos=pos)\n",
        "  except:\n",
        "    pass\n",
        "  if filename is not None:\n",
        "    plt.savefig(filename, dpi=300, bbox_inches='tight')\n",
        "  return g_nx\n",
        "\n",
        "\n",
        "def shuffle_tensor(x):\n",
        "  x = x.clone()\n",
        "  x_shape = x.shape\n",
        "  x = x.flatten()\n",
        "  x = x[torch.randperm(x.numel())]\n",
        "  return x.reshape(x.shape)\n",
        "\n",
        "\n",
        "def note_features_to_one_hot(x):\n",
        "  # create indicator vector for NUM_CLASSES classes, values outside are set to all zeros (first to special class that then gets truncated)\n",
        "  x_cut = torch.where((x < -0.1) | (x > NUM_CLASSES-0.5), torch.tensor(NUM_CLASSES, device = DEVICE, dtype=torch.float), x)\n",
        "  x_one_hot = torch.zeros(x.shape[0], NUM_CLASSES+1, device = DEVICE)\n",
        "  x_one_hot.scatter_(1, x_cut.round().long().view(-1).unsqueeze(1), 1)\n",
        "  x_one_hot = x_one_hot[:,0:NUM_CLASSES]\n",
        "  return x_one_hot\n",
        "\n",
        "def global_mask_pool(x, x_in, batch):\n",
        "  mask_indicator = torch.lt(torch.sum(x_in, dim=1), 0.5).view(-1, 1)\n",
        "  x = x * mask_indicator\n",
        "  x = global_add_pool(x, batch)\n",
        "  return x \n",
        "\n",
        "\n",
        "def flip_edges_randomly(tensor, probability):\n",
        "  if probability < EPSILON:\n",
        "    return tensor\n",
        "\n",
        "  # Find the positions where the tensor has values 1.0 or 3.0\n",
        "  ones_positions = (tensor == EDGE_INDICATOR).to(DEVICE)\n",
        "  threes_positions = (tensor == NO_EDGE_INDICATOR).to(DEVICE)\n",
        "\n",
        "  # Generate a random binary mask for switching values\n",
        "  mask = torch.rand(tensor.shape, device=DEVICE) < probability\n",
        "\n",
        "  # Switch 1.0s to 3.0s using the random binary mask\n",
        "  tensor = torch.where(ones_positions & mask, torch.tensor(NO_EDGE_INDICATOR, device=DEVICE), tensor)\n",
        "\n",
        "  # Switch 3.0s to 1.0s using the inverted random binary mask\n",
        "  tensor = torch.where(threes_positions & mask, torch.tensor(EDGE_INDICATOR, device=DEVICE), tensor)\n",
        "\n",
        "  return tensor\n",
        "\n",
        "def extend_node_features(x, edge_index, batch):\n",
        "  assert(NODE_FEATURE_EXTEND == 3)\n",
        "\n",
        "  num_graphs = batch.max()+1\n",
        "  num_nodes = x.shape[0]\n",
        "  degree_feature = torch.zeros([num_nodes, NODE_FEATURE_EXTEND], device=DEVICE)\n",
        "  for i in range(edge_index.shape[1]):\n",
        "    src_node = edge_index[0,i]\n",
        "    target_node = edge_index[1,i]\n",
        "    # if src is real node and connection is edge indicator \n",
        "    if x[src_node, round(DUMMY)].item() > 0.5 and x[target_node, round(EDGE_INDICATOR)].item() > 0.5:\n",
        "      degree_feature[src_node,0] += 1.0\n",
        "    if x[src_node, round(DUMMY)].item() > 0.5 and x[target_node, round(MASK)].item() > 0.5:\n",
        "      degree_feature[src_node,1] += 1.0\n",
        "  for i in range(num_graphs):\n",
        "    num_mask_in_this_graph = torch.sum(x[batch == i,round(MASK)])\n",
        "    degree_feature[batch == i, 2] = num_mask_in_this_graph\n",
        "  x = torch.cat([x, degree_feature], dim=1)\n",
        "\n",
        "  return x"
      ]
    },
    {
      "cell_type": "code",
      "execution_count": null,
      "metadata": {
        "colab": {
          "base_uri": "https://localhost:8080/"
        },
        "id": "rEusLk_fd7hC",
        "outputId": "4a555e6f-8fa1-465d-a5b0-e466405e80c7"
      },
      "outputs": [
        {
          "output_type": "execute_result",
          "data": {
            "text/plain": [
              "Data(x=[4, 4], edge_index=[2, 8])"
            ]
          },
          "metadata": {},
          "execution_count": 45
        }
      ],
      "source": [
        "import torch_geometric.transforms as T\n",
        "transform = T.Compose([T.ToUndirected()])\n",
        "\n",
        "edge_index = torch.tensor([[0, 1, 2, 3, 1, 2, 3],\n",
        "                           [1, 2, 3, 1, 0, 1, 2]], dtype=torch.long).to(DEVICE)\n",
        "x = torch.tensor([[0,1,0,0], [1,0,0,1], [0,0,1,1], [0,1,0,0]], dtype=torch.float).to(DEVICE)\n",
        "\n",
        "data = Data(x=x, edge_index=edge_index)\n",
        "\n",
        "data = transform(data)\n",
        "data\n",
        "#extend_node_features(data.x, data.edge_index, batch=torch.zeros(data.x.shape[0], dtype=torch.long))"
      ]
    },
    {
      "cell_type": "code",
      "execution_count": null,
      "metadata": {
        "colab": {
          "base_uri": "https://localhost:8080/",
          "height": 516
        },
        "id": "bJ3hIT0pmBXp",
        "outputId": "b4610d40-ff42-43ec-a06f-22d7f4177ad3"
      },
      "outputs": [
        {
          "output_type": "display_data",
          "data": {
            "text/plain": [
              "<Figure size 640x480 with 1 Axes>"
            ],
            "image/png": "[encoded data removed]"
          },
          "metadata": {}
        }
      ],
      "source": [
        "edge_index = torch.tensor([[0, 1, 2, 3, 1, 2, 3, 1],\n",
        "                           [1, 2, 3, 1, 0, 1, 2, 3]], dtype=torch.long).to(DEVICE)\n",
        "x = torch.tensor([[-1], [0], [1], [1]], dtype=torch.float).to(DEVICE)\n",
        "\n",
        "data = Data(x=x, edge_index=edge_index)\n",
        "\n",
        "g = torch_geometric.utils.to_networkx(data, to_undirected=True, node_attrs=['x'])\n",
        "try:\n",
        "  nx.draw(g, pos=nx.spring_layout(g),  with_labels = True)\n",
        "except:\n",
        "  pass"
      ]
    },
    {
      "cell_type": "code",
      "execution_count": null,
      "metadata": {
        "colab": {
          "base_uri": "https://localhost:8080/"
        },
        "id": "AiLapF9HnilF",
        "outputId": "29c2c75b-3736-4fb9-802b-d7a55b5958a5"
      },
      "outputs": [
        {
          "output_type": "execute_result",
          "data": {
            "text/plain": [
              "(Data(edge_index=[2, 24], x=[10, 1]),\n",
              " tensor([[0.],\n",
              "         [1.],\n",
              "         [0.],\n",
              "         [3.],\n",
              "         [0.],\n",
              "         [3.],\n",
              "         [0.],\n",
              "         [1.],\n",
              "         [1.],\n",
              "         [1.]]),\n",
              " tensor([[0, 0, 0, 1, 1, 2, 2, 2, 3, 3, 4, 4, 4, 5, 5, 6, 6, 6, 7, 7, 8, 8, 9, 9],\n",
              "         [1, 3, 5, 0, 2, 1, 7, 8, 0, 4, 3, 7, 9, 0, 6, 5, 8, 9, 2, 4, 2, 6, 4, 6]]))"
            ]
          },
          "metadata": {},
          "execution_count": 47
        }
      ],
      "source": [
        "data = lift_nx_to_pyg(g)\n",
        "data, data.x, data.edge_index"
      ]
    },
    {
      "cell_type": "code",
      "execution_count": null,
      "metadata": {
        "colab": {
          "base_uri": "https://localhost:8080/",
          "height": 516
        },
        "id": "cgkOkx4amnfY",
        "outputId": "4ca6e570-430d-4997-b738-e4a5069cb69c"
      },
      "outputs": [
        {
          "output_type": "display_data",
          "data": {
            "text/plain": [
              "<Figure size 640x480 with 1 Axes>"
            ],
            "image/png": "[encoded data removed]"
          },
          "metadata": {}
        }
      ],
      "source": [
        "draw_pyg(data, filename='examplegraph.png')\n",
        "if IN_COLAB:\n",
        "  plt.show()"
      ]
    },
    {
      "cell_type": "markdown",
      "metadata": {
        "id": "iaElQYAbWu8M"
      },
      "source": [
        "## Dataset"
      ]
    },
    {
      "cell_type": "code",
      "execution_count": null,
      "metadata": {
        "id": "mCpXui1mW9mp"
      },
      "outputs": [],
      "source": [
        "class ShuffleList:\n",
        "    def __init__(self, data):\n",
        "        self.data = data\n",
        "        self.index = 0\n",
        "\n",
        "    def __iter__(self):\n",
        "        random.shuffle(self.data)\n",
        "        self.index = 0\n",
        "        return self\n",
        "\n",
        "    def __next__(self):\n",
        "        if self.index < len(self.data):\n",
        "            value = self.data[self.index]\n",
        "            self.index += 1\n",
        "            return value\n",
        "        else:\n",
        "            raise StopIteration\n",
        "\n",
        "    def __getitem__(self, index):\n",
        "        return self.data[index]\n",
        "\n",
        "    def __len__(self):\n",
        "        return len(self.data)"
      ]
    },
    {
      "cell_type": "code",
      "execution_count": null,
      "metadata": {
        "id": "IgbW4Z0tWuN1"
      },
      "outputs": [],
      "source": [
        "def build_dataset(num_nodes=NUM_NODES, num_samples=NUM_SAMPLES, degree=DEGREE):\n",
        "  graph_dataset = list() \n",
        "  seed = 1234\n",
        "\n",
        "  for _ in range(num_samples):\n",
        "    while True:\n",
        "      seed += 1\n",
        "      graph = nx.random_regular_graph(d=degree, n=num_nodes, seed=seed)\n",
        "      if nx.is_connected(graph):\n",
        "        graph.x = torch.ones(num_nodes).t()\n",
        "        graph_dataset.append(lift_nx_to_pyg(graph))\n",
        "        break\n",
        "\n",
        "  return ShuffleList(graph_dataset)\n",
        "\n"
      ]
    },
    {
      "cell_type": "code",
      "execution_count": null,
      "metadata": {
        "colab": {
          "base_uri": "https://localhost:8080/",
          "height": 533
        },
        "id": "xKqFT6D7XHE7",
        "outputId": "5f3f967d-121d-4d92-85b8-7ca4970bb1d9"
      },
      "outputs": [
        {
          "output_type": "execute_result",
          "data": {
            "text/plain": [
              "<networkx.classes.graph.Graph at 0x7febb00a3c10>"
            ]
          },
          "metadata": {},
          "execution_count": 51
        },
        {
          "output_type": "display_data",
          "data": {
            "text/plain": [
              "<Figure size 640x480 with 1 Axes>"
            ],
            "image/png": "[encoded data removed]"
          },
          "metadata": {}
        }
      ],
      "source": [
        "dataset = build_dataset()\n",
        "data = dataset[0]\n",
        "draw_pyg(data)"
      ]
    },
    {
      "cell_type": "code",
      "execution_count": null,
      "metadata": {
        "colab": {
          "base_uri": "https://localhost:8080/"
        },
        "id": "U2FUnVjG4Cwh",
        "outputId": "3575b54d-ffa4-491f-ca8a-818b73cb25dc"
      },
      "outputs": [
        {
          "output_type": "stream",
          "name": "stdout",
          "text": [
            "Step 1:\n",
            "=======\n",
            "Number of graphs in the current batch: 10\n",
            "DataBatch(edge_index=[2, 2640], x=[780, 1], batch=[780], ptr=[11])\n",
            "\n",
            "tensor([0., 3., 0., 1., 0., 3., 0., 3., 0., 3., 0., 3., 0., 3., 0., 3., 0., 1.,\n",
            "        0., 1., 0., 3., 0., 3., 3., 3., 1., 3., 3., 1., 1., 3., 3., 3., 3., 1.,\n",
            "        3., 3., 3., 3., 3., 1., 1., 1., 3., 1., 3., 3., 3., 3., 3., 1., 3., 3.,\n",
            "        3., 1., 3., 3., 3., 3., 3., 3., 3., 1., 3., 3., 3., 1., 1., 3., 3., 3.,\n",
            "        3., 3., 1., 1., 3., 3., 0., 3., 0., 3., 0., 3., 0., 1., 0., 3., 0., 1.,\n",
            "        0., 3., 0., 3., 0., 1., 0., 3., 0., 3., 0., 3., 1., 1., 1., 3., 3., 3.,\n",
            "        3., 3., 3., 3., 3., 1., 3., 1., 3., 1., 3., 3., 3., 3., 3., 3., 1., 3.,\n",
            "        3., 1., 3., 3., 3., 3., 1., 3., 3., 3., 3., 3., 3., 1., 3., 3., 1., 3.,\n",
            "        1., 3., 1., 3., 3., 1., 3., 3., 3., 3., 3., 1., 0., 3., 0., 3., 0., 3.,\n",
            "        0., 1., 0., 1., 0., 3., 0., 1., 0., 3., 0., 3., 0., 3., 0., 3., 0., 1.,\n",
            "        3., 3., 3., 1., 3., 3., 1., 3., 3., 3., 3., 3., 3., 1., 3., 3., 1., 3.,\n",
            "        1., 3., 1., 3., 1., 3., 3., 3., 3., 3., 3., 3., 1., 3., 3., 3., 3., 1.,\n",
            "        3., 1., 3., 3., 3., 1., 3., 3., 3., 3., 3., 1., 3., 3., 1., 3., 3., 1.,\n",
            "        0., 3., 0., 3., 0., 3., 0., 3., 0., 3., 0., 1., 0., 3., 0., 1., 0., 3.,\n",
            "        0., 3., 0., 1., 0., 1., 1., 3., 3., 3., 3., 1., 3., 3., 3., 3., 3., 3.,\n",
            "        1., 1., 3., 3., 3., 3., 1., 3., 1., 3., 3., 3., 3., 3., 1., 3., 3., 3.,\n",
            "        3., 1., 3., 3., 3., 3., 1., 1., 3., 3., 3., 3., 3., 3., 3., 1., 3., 1.,\n",
            "        1., 3., 3., 3., 3., 1., 0., 1., 0., 3., 0., 3., 0., 1., 0., 3., 0., 3.,\n",
            "        0., 3., 0., 3., 0., 3., 0., 1., 0., 3., 0., 1., 3., 3., 3., 3., 3., 1.,\n",
            "        3., 3., 3., 3., 3., 3., 1., 3., 3., 3., 3., 1., 3., 1., 3., 1., 3., 1.,\n",
            "        3., 3., 1., 3., 1., 3., 3., 3., 3., 3., 3., 3., 1., 3., 3., 3., 1., 3.,\n",
            "        1., 3., 3., 1., 3., 3., 3., 3., 1., 3., 3., 1., 0., 3., 0., 3., 0., 3.,\n",
            "        0., 3., 0., 1., 0., 1., 0., 3., 0., 3., 0., 3., 0., 1., 0., 3., 0., 3.,\n",
            "        3., 3., 1., 1., 3., 3., 1., 3., 3., 3., 1., 1., 3., 3., 1., 3., 3., 3.,\n",
            "        3., 3., 3., 1., 3., 3., 1., 1., 3., 3., 3., 1., 1., 3., 3., 3., 3., 3.,\n",
            "        3., 3., 3., 3., 3., 3., 1., 3., 1., 3., 3., 1., 3., 3., 3., 3., 1., 3.,\n",
            "        0., 3., 0., 3., 0., 1., 0., 3., 0., 3., 0., 3., 0., 1., 0., 3., 0., 3.,\n",
            "        0., 3., 0., 1., 0., 1., 3., 3., 3., 1., 3., 3., 1., 3., 3., 3., 3., 1.,\n",
            "        1., 3., 3., 3., 3., 3., 3., 3., 3., 3., 1., 3., 1., 3., 1., 3., 1., 3.,\n",
            "        1., 3., 3., 3., 3., 3., 3., 3., 1., 3., 3., 3., 3., 1., 1., 3., 3., 3.,\n",
            "        3., 1., 3., 1., 3., 3., 0., 3., 0., 3., 0., 1., 0., 3., 0., 3., 0., 1.,\n",
            "        0., 3., 0., 1., 0., 3., 0., 3., 0., 3., 0., 3., 1., 3., 1., 3., 1., 3.,\n",
            "        3., 3., 3., 3., 3., 3., 3., 1., 3., 1., 3., 1., 3., 3., 3., 3., 3., 3.,\n",
            "        1., 3., 1., 3., 3., 3., 1., 1., 3., 1., 3., 3., 3., 3., 3., 3., 1., 3.,\n",
            "        3., 3., 3., 3., 3., 1., 1., 3., 3., 3., 3., 1., 0., 3., 0., 3., 0., 3.,\n",
            "        0., 3., 0., 3., 0., 1., 0., 1., 0., 3., 0., 3., 0., 3., 0., 1., 0., 1.,\n",
            "        1., 3., 3., 3., 3., 1., 3., 3., 3., 3., 1., 3., 3., 3., 3., 1., 3., 3.,\n",
            "        1., 3., 3., 1., 3., 3., 3., 3., 1., 3., 3., 3., 3., 3., 3., 3., 3., 3.,\n",
            "        3., 1., 1., 1., 1., 3., 3., 3., 3., 3., 3., 3., 1., 3., 3., 1., 3., 1.,\n",
            "        0., 3., 0., 3., 0., 1., 0., 1., 0., 3., 0., 3., 0., 3., 0., 1., 0., 3.,\n",
            "        0., 3., 0., 3., 0., 3., 3., 3., 1., 1., 1., 3., 3., 3., 3., 3., 1., 3.,\n",
            "        3., 3., 1., 3., 1., 3., 3., 3., 3., 3., 3., 1., 1., 3., 3., 3., 3., 3.,\n",
            "        3., 1., 3., 1., 3., 3., 1., 3., 3., 1., 3., 3., 3., 3., 3., 3., 3., 1.,\n",
            "        3., 3., 1., 3., 1., 3.]) tensor([[  0,   0,   0,  ..., 778, 779, 779],\n",
            "        [  1,   3,   5,  ..., 724, 722, 724]]) tensor([0, 0, 0, 0, 0, 0, 0, 0, 0, 0, 0, 0, 0, 0, 0, 0, 0, 0, 0, 0, 0, 0, 0, 0,\n",
            "        0, 0, 0, 0, 0, 0, 0, 0, 0, 0, 0, 0, 0, 0, 0, 0, 0, 0, 0, 0, 0, 0, 0, 0,\n",
            "        0, 0, 0, 0, 0, 0, 0, 0, 0, 0, 0, 0, 0, 0, 0, 0, 0, 0, 0, 0, 0, 0, 0, 0,\n",
            "        0, 0, 0, 0, 0, 0, 1, 1, 1, 1, 1, 1, 1, 1, 1, 1, 1, 1, 1, 1, 1, 1, 1, 1,\n",
            "        1, 1, 1, 1, 1, 1, 1, 1, 1, 1, 1, 1, 1, 1, 1, 1, 1, 1, 1, 1, 1, 1, 1, 1,\n",
            "        1, 1, 1, 1, 1, 1, 1, 1, 1, 1, 1, 1, 1, 1, 1, 1, 1, 1, 1, 1, 1, 1, 1, 1,\n",
            "        1, 1, 1, 1, 1, 1, 1, 1, 1, 1, 1, 1, 2, 2, 2, 2, 2, 2, 2, 2, 2, 2, 2, 2,\n",
            "        2, 2, 2, 2, 2, 2, 2, 2, 2, 2, 2, 2, 2, 2, 2, 2, 2, 2, 2, 2, 2, 2, 2, 2,\n",
            "        2, 2, 2, 2, 2, 2, 2, 2, 2, 2, 2, 2, 2, 2, 2, 2, 2, 2, 2, 2, 2, 2, 2, 2,\n",
            "        2, 2, 2, 2, 2, 2, 2, 2, 2, 2, 2, 2, 2, 2, 2, 2, 2, 2, 3, 3, 3, 3, 3, 3,\n",
            "        3, 3, 3, 3, 3, 3, 3, 3, 3, 3, 3, 3, 3, 3, 3, 3, 3, 3, 3, 3, 3, 3, 3, 3,\n",
            "        3, 3, 3, 3, 3, 3, 3, 3, 3, 3, 3, 3, 3, 3, 3, 3, 3, 3, 3, 3, 3, 3, 3, 3,\n",
            "        3, 3, 3, 3, 3, 3, 3, 3, 3, 3, 3, 3, 3, 3, 3, 3, 3, 3, 3, 3, 3, 3, 3, 3,\n",
            "        4, 4, 4, 4, 4, 4, 4, 4, 4, 4, 4, 4, 4, 4, 4, 4, 4, 4, 4, 4, 4, 4, 4, 4,\n",
            "        4, 4, 4, 4, 4, 4, 4, 4, 4, 4, 4, 4, 4, 4, 4, 4, 4, 4, 4, 4, 4, 4, 4, 4,\n",
            "        4, 4, 4, 4, 4, 4, 4, 4, 4, 4, 4, 4, 4, 4, 4, 4, 4, 4, 4, 4, 4, 4, 4, 4,\n",
            "        4, 4, 4, 4, 4, 4, 5, 5, 5, 5, 5, 5, 5, 5, 5, 5, 5, 5, 5, 5, 5, 5, 5, 5,\n",
            "        5, 5, 5, 5, 5, 5, 5, 5, 5, 5, 5, 5, 5, 5, 5, 5, 5, 5, 5, 5, 5, 5, 5, 5,\n",
            "        5, 5, 5, 5, 5, 5, 5, 5, 5, 5, 5, 5, 5, 5, 5, 5, 5, 5, 5, 5, 5, 5, 5, 5,\n",
            "        5, 5, 5, 5, 5, 5, 5, 5, 5, 5, 5, 5, 6, 6, 6, 6, 6, 6, 6, 6, 6, 6, 6, 6,\n",
            "        6, 6, 6, 6, 6, 6, 6, 6, 6, 6, 6, 6, 6, 6, 6, 6, 6, 6, 6, 6, 6, 6, 6, 6,\n",
            "        6, 6, 6, 6, 6, 6, 6, 6, 6, 6, 6, 6, 6, 6, 6, 6, 6, 6, 6, 6, 6, 6, 6, 6,\n",
            "        6, 6, 6, 6, 6, 6, 6, 6, 6, 6, 6, 6, 6, 6, 6, 6, 6, 6, 7, 7, 7, 7, 7, 7,\n",
            "        7, 7, 7, 7, 7, 7, 7, 7, 7, 7, 7, 7, 7, 7, 7, 7, 7, 7, 7, 7, 7, 7, 7, 7,\n",
            "        7, 7, 7, 7, 7, 7, 7, 7, 7, 7, 7, 7, 7, 7, 7, 7, 7, 7, 7, 7, 7, 7, 7, 7,\n",
            "        7, 7, 7, 7, 7, 7, 7, 7, 7, 7, 7, 7, 7, 7, 7, 7, 7, 7, 7, 7, 7, 7, 7, 7,\n",
            "        8, 8, 8, 8, 8, 8, 8, 8, 8, 8, 8, 8, 8, 8, 8, 8, 8, 8, 8, 8, 8, 8, 8, 8,\n",
            "        8, 8, 8, 8, 8, 8, 8, 8, 8, 8, 8, 8, 8, 8, 8, 8, 8, 8, 8, 8, 8, 8, 8, 8,\n",
            "        8, 8, 8, 8, 8, 8, 8, 8, 8, 8, 8, 8, 8, 8, 8, 8, 8, 8, 8, 8, 8, 8, 8, 8,\n",
            "        8, 8, 8, 8, 8, 8, 9, 9, 9, 9, 9, 9, 9, 9, 9, 9, 9, 9, 9, 9, 9, 9, 9, 9,\n",
            "        9, 9, 9, 9, 9, 9, 9, 9, 9, 9, 9, 9, 9, 9, 9, 9, 9, 9, 9, 9, 9, 9, 9, 9,\n",
            "        9, 9, 9, 9, 9, 9, 9, 9, 9, 9, 9, 9, 9, 9, 9, 9, 9, 9, 9, 9, 9, 9, 9, 9,\n",
            "        9, 9, 9, 9, 9, 9, 9, 9, 9, 9, 9, 9])\n"
          ]
        }
      ],
      "source": [
        "# TODO dataloader\n",
        "from torch_geometric.loader import DataLoader\n",
        "train_loader = DataLoader(dataset, batch_size=BATCH_SIZE_TEST, shuffle=True)\n",
        "for step, data in enumerate(train_loader):\n",
        "  print(f'Step {step + 1}:')\n",
        "  print('=======')\n",
        "  print(f'Number of graphs in the current batch: {data.num_graphs}')\n",
        "  print(data)\n",
        "  print()\n",
        "  print(data.x.flatten(), data.edge_index, data.batch)\n",
        "  break\n",
        "\n",
        "\n",
        "# for gen of training sample:\n",
        "# 1) mask 0 ... (all -1) (inclusivly) \n",
        "# 2) swich exactly 1 of the unmasked"
      ]
    },
    {
      "cell_type": "markdown",
      "metadata": {
        "id": "dqztDRIj0UdF"
      },
      "source": [
        "## Model"
      ]
    },
    {
      "cell_type": "markdown",
      "metadata": {
        "id": "kV_DnkKhs9P-"
      },
      "source": [
        "#### AttentionNet"
      ]
    },
    {
      "cell_type": "code",
      "execution_count": null,
      "metadata": {
        "id": "eoLXRG6utBBU"
      },
      "outputs": [],
      "source": [
        "from torch_geometric.nn import GATv2Conv, GraphNorm, BatchNorm\n",
        "\n",
        "class AttentionNet(torch.nn.Module):\n",
        "  def __init__(self, hidden_dim=32, layer_num=6, dropout=0.1, normalization=False, single_pass_pooling=False):\n",
        "    super(AttentionNet, self).__init__()\n",
        "\n",
        "    self.mlp_list = nn.ModuleList()\n",
        "    self.conv_list = nn.ModuleList()\n",
        "    self.sigmoid = nn.Sigmoid()\n",
        "    self.dropout = dropout\n",
        "    self.graph_norms = nn.ModuleList()\n",
        "    self.normalization = normalization\n",
        "    self.single_pass_pooling = single_pass_pooling\n",
        "    assert(hidden_dim % 2 == 0)\n",
        "    input_channels = NUM_CLASSES\n",
        "\n",
        "    for i in range(layer_num):\n",
        "      in_dim = hidden_dim if i > 0 else input_channels \n",
        "      out_dim = hidden_dim if i < layer_num-1 else 1 \n",
        "      self.conv_list.append(GATv2Conv(in_channels=in_dim, out_channels=hidden_dim // 2, heads=2))\n",
        "      self.graph_norms.append(BatchNorm(hidden_dim))\n",
        "      self.mlp_list.append(Seq(Lin(hidden_dim, hidden_dim), nn.ReLU(), Lin(hidden_dim, hidden_dim), nn.ReLU(), Lin(hidden_dim, out_dim)))\n",
        "\n",
        "  def forward(self, x_in, edge_index, batch):\n",
        "    x = note_features_to_one_hot(x_in)\n",
        "    for i in range(len(self.conv_list)):\n",
        "      x = self.conv_list[i](x, edge_index)\n",
        "      x = F.relu(x)\n",
        "      if self.normalization:\n",
        "        x = self.graph_norms[i](x)\n",
        "      x = self.mlp_list[i](x)\n",
        "      #if i == 0:\n",
        "      #  x = self.dropout(x)\n",
        "\n",
        "    if self.single_pass_pooling:\n",
        "      x = global_mask_pool(x, x_in, batch)\n",
        "    else:\n",
        "      x = global_mean_pool(x, batch)\n",
        "    x = F.dropout(x, p=self.dropout, training=self.training)\n",
        "    x = self.sigmoid(x) + EPSILON\n",
        "    return x.flatten()\n"
      ]
    },
    {
      "cell_type": "code",
      "execution_count": null,
      "metadata": {
        "colab": {
          "base_uri": "https://localhost:8080/"
        },
        "id": "iTUh3uVOtEMO",
        "outputId": "803228a0-a083-4317-f9c6-126428ce8e2d"
      },
      "outputs": [
        {
          "output_type": "stream",
          "name": "stdout",
          "text": [
            "AttentionNet(\n",
            "  (mlp_list): ModuleList(\n",
            "    (0-4): 5 x Sequential(\n",
            "      (0): Linear(in_features=32, out_features=32, bias=True)\n",
            "      (1): ReLU()\n",
            "      (2): Linear(in_features=32, out_features=32, bias=True)\n",
            "      (3): ReLU()\n",
            "      (4): Linear(in_features=32, out_features=32, bias=True)\n",
            "    )\n",
            "    (5): Sequential(\n",
            "      (0): Linear(in_features=32, out_features=32, bias=True)\n",
            "      (1): ReLU()\n",
            "      (2): Linear(in_features=32, out_features=32, bias=True)\n",
            "      (3): ReLU()\n",
            "      (4): Linear(in_features=32, out_features=1, bias=True)\n",
            "    )\n",
            "  )\n",
            "  (conv_list): ModuleList(\n",
            "    (0): GATv2Conv(4, 16, heads=2)\n",
            "    (1-5): 5 x GATv2Conv(32, 16, heads=2)\n",
            "  )\n",
            "  (sigmoid): Sigmoid()\n",
            "  (graph_norms): ModuleList(\n",
            "    (0-5): 6 x BatchNorm(32)\n",
            "  )\n",
            ")\n",
            "tensor([0.8055, 0.8055, 0.8055, 0.8055, 0.8055, 0.8055, 0.8055, 0.8055, 0.8055,\n",
            "        0.8055], device='cuda:0', grad_fn=<ReshapeAliasBackward0>)\n"
          ]
        }
      ],
      "source": [
        "model = AttentionNet(single_pass_pooling=True)\n",
        "model.to(DEVICE)\n",
        "print(model) \n",
        "for step, data in enumerate(train_loader):\n",
        "  data = data.to(DEVICE)\n",
        "  print(model(data.x, data.edge_index, data.batch))\n",
        "  break"
      ]
    },
    {
      "cell_type": "markdown",
      "metadata": {
        "id": "SaQ7f2E4dCqd"
      },
      "source": [
        "#### TransformerNet"
      ]
    },
    {
      "cell_type": "code",
      "execution_count": null,
      "metadata": {
        "id": "nS3CzlgcdEAK"
      },
      "outputs": [],
      "source": [
        "#relu = nn.Relu() ## todo: changed to relu here\n",
        "from torch_geometric.nn import TransformerConv\n",
        "\n",
        "class TransformerNet(torch.nn.Module):\n",
        "  def __init__(self, hidden_dim=32, layer_num=6, dropout=0.1, normalization=False, single_pass_pooling = False):\n",
        "    super(TransformerNet, self).__init__()\n",
        "\n",
        "    self.mlp_list = nn.ModuleList()\n",
        "    self.conv_list = nn.ModuleList()\n",
        "    self.sigmoid = nn.Sigmoid()\n",
        "    self.graph_norms = nn.ModuleList()\n",
        "    self.dropout = dropout\n",
        "    self.normalization = normalization\n",
        "    assert(hidden_dim % 2 == 0)\n",
        "    input_channels = NUM_CLASSES\n",
        "    self.single_pass_pooling = single_pass_pooling\n",
        "\n",
        "\n",
        "    for i in range(layer_num):\n",
        "      in_dim = hidden_dim if i > 0 else input_channels \n",
        "      out_dim = hidden_dim if i < layer_num-1 else 1 \n",
        "      self.conv_list.append(TransformerConv(in_channels=in_dim, out_channels=hidden_dim // 2, heads=2))\n",
        "      self.graph_norms.append(BatchNorm(hidden_dim))\n",
        "      self.mlp_list.append(Seq(Lin(hidden_dim, hidden_dim), nn.ReLU(), Lin(hidden_dim, hidden_dim), nn.ReLU(), Lin(hidden_dim, out_dim)))\n",
        "\n",
        "  def forward(self, x_in, edge_index, batch):\n",
        "    x = note_features_to_one_hot(x_in)\n",
        "    for i in range(len(self.conv_list)):\n",
        "      x = self.conv_list[i](x, edge_index)\n",
        "      if self.normalization:\n",
        "        x = self.graph_norms[i](x)\n",
        "      x = F.dropout(x, p=self.dropout, training=self.training)\n",
        "      x = self.mlp_list[i](x)\n",
        "    \n",
        "    if self.single_pass_pooling:\n",
        "      x = global_mask_pool(x, x_in, batch)\n",
        "    else:\n",
        "      x = global_mean_pool(x, batch)\n",
        "\n",
        "    x = self.sigmoid(x) + EPSILON\n",
        "    return x.flatten()\n"
      ]
    },
    {
      "cell_type": "code",
      "execution_count": null,
      "metadata": {
        "colab": {
          "base_uri": "https://localhost:8080/"
        },
        "id": "plkfTVUrXRO-",
        "outputId": "15d9deeb-51c0-4884-a72b-7e0e313514a3"
      },
      "outputs": [
        {
          "output_type": "stream",
          "name": "stdout",
          "text": [
            "TransformerNet(\n",
            "  (mlp_list): ModuleList(\n",
            "    (0-4): 5 x Sequential(\n",
            "      (0): Linear(in_features=32, out_features=32, bias=True)\n",
            "      (1): ReLU()\n",
            "      (2): Linear(in_features=32, out_features=32, bias=True)\n",
            "      (3): ReLU()\n",
            "      (4): Linear(in_features=32, out_features=32, bias=True)\n",
            "    )\n",
            "    (5): Sequential(\n",
            "      (0): Linear(in_features=32, out_features=32, bias=True)\n",
            "      (1): ReLU()\n",
            "      (2): Linear(in_features=32, out_features=32, bias=True)\n",
            "      (3): ReLU()\n",
            "      (4): Linear(in_features=32, out_features=1, bias=True)\n",
            "    )\n",
            "  )\n",
            "  (conv_list): ModuleList(\n",
            "    (0): TransformerConv(4, 16, heads=2)\n",
            "    (1-5): 5 x TransformerConv(32, 16, heads=2)\n",
            "  )\n",
            "  (sigmoid): Sigmoid()\n",
            "  (graph_norms): ModuleList(\n",
            "    (0-5): 6 x BatchNorm(32)\n",
            "  )\n",
            ")\n",
            "tensor([0.4738, 0.4738, 0.4739, 0.4738, 0.4739, 0.4738, 0.4738, 0.4739, 0.4739,\n",
            "        0.4738], device='cuda:0', grad_fn=<ReshapeAliasBackward0>)\n"
          ]
        }
      ],
      "source": [
        "model = TransformerNet()\n",
        "model.to(DEVICE)\n",
        "print(model) \n",
        "for step, data in enumerate(train_loader):\n",
        "  data = data.to(DEVICE)\n",
        "  print(model(data.x, data.edge_index, data.batch))\n",
        "  break"
      ]
    },
    {
      "cell_type": "markdown",
      "metadata": {
        "id": "UwghOZsDdEJz"
      },
      "source": [
        "#### Unet"
      ]
    },
    {
      "cell_type": "code",
      "execution_count": null,
      "metadata": {
        "id": "LEwIcO4w0VaR"
      },
      "outputs": [],
      "source": [
        "from torch_geometric.nn import GraphUNet\n",
        "\n",
        "class Unet(torch.nn.Module):\n",
        "  def __init__(self, hidden_channels=32, out_channels=1, depth=4, single_pass_pooling = False):\n",
        "    super(Unet, self).__init__()\n",
        "    self.sigmoid = nn.Sigmoid()\n",
        "    in_channels = NUM_CLASSES\n",
        "    self.single_pass_pooling = single_pass_pooling\n",
        "    self.unet = GraphUNet(in_channels=in_channels, hidden_channels=hidden_channels, out_channels=out_channels, depth=depth)\n",
        "\n",
        "  def forward(self, x_in, edge_index, batch):\n",
        "    x = note_features_to_one_hot(x_in)\n",
        "    x = self.unet(x, edge_index)\n",
        "\n",
        "    if self.single_pass_pooling:\n",
        "      x = global_mask_pool(x, x_in, batch)\n",
        "    else:\n",
        "      x = global_mean_pool(x, batch)\n",
        "\n",
        "    x = self.sigmoid(x) + 0.0000001 # add eps to avoid div. by zero\n",
        "    return x.flatten()\n",
        "  "
      ]
    },
    {
      "cell_type": "code",
      "execution_count": null,
      "metadata": {
        "colab": {
          "base_uri": "https://localhost:8080/"
        },
        "id": "YBYSWAp9XOLz",
        "outputId": "f3022cee-0e6a-413c-e70f-f6ec602d45bb"
      },
      "outputs": [
        {
          "output_type": "stream",
          "name": "stdout",
          "text": [
            "Unet(\n",
            "  (sigmoid): Sigmoid()\n",
            "  (unet): GraphUNet(4, 32, 1, depth=4, pool_ratios=[0.5, 0.5, 0.5, 0.5])\n",
            ")\n",
            "tensor([0.4809, 0.4809, 0.4809, 0.4809, 0.4810, 0.4811, 0.4811, 0.4811, 0.4811,\n",
            "        0.4811], device='cuda:0', grad_fn=<ReshapeAliasBackward0>)\n"
          ]
        }
      ],
      "source": [
        "\n",
        "model = Unet()\n",
        "model.to(DEVICE)\n",
        "print(model) \n",
        "for step, data in enumerate(train_loader):\n",
        "  data.to(DEVICE)\n",
        "  print(model(data.x, data.edge_index, data.batch))\n",
        "  break"
      ]
    },
    {
      "cell_type": "markdown",
      "metadata": {
        "id": "Ir4sFS6YS5UY"
      },
      "source": [
        "#### PNA"
      ]
    },
    {
      "cell_type": "code",
      "execution_count": null,
      "metadata": {
        "id": "ydDINWbaaSav"
      },
      "outputs": [],
      "source": [
        "def print_inputs(*args):\n",
        "    for arg in args:\n",
        "        print(arg)\n"
      ]
    },
    {
      "cell_type": "code",
      "execution_count": null,
      "metadata": {
        "id": "U_8SApKdS3wo"
      },
      "outputs": [],
      "source": [
        "from torch_geometric.nn import PNA\n",
        "from torch_geometric.utils import degree\n",
        "\n",
        "#train_dataset = build_dataset()\n",
        "\n",
        "def dataset_to_degree_bin(train_dataset):\n",
        "  # Compute the maximum in-degree in the training data.\n",
        "  max_degree = -1\n",
        "  for data in train_dataset:\n",
        "      d = degree(data.edge_index[1], num_nodes=data.num_nodes, dtype=torch.long)\n",
        "      max_degree = max(max_degree, int(d.max()))\n",
        "\n",
        "  deg = torch.zeros(max_degree + 1, dtype=torch.long)\n",
        "  for data in train_dataset:\n",
        "      d = degree(data.edge_index[1], num_nodes=data.num_nodes, dtype=torch.long)\n",
        "      deg += torch.bincount(d, minlength=deg.numel())\n",
        "  return deg\n",
        "\n",
        "class PNAnet(torch.nn.Module):\n",
        "  def __init__(self, train_dataset_example, hidden_channels=32, depth=4, dropout=0.0, towers=2, single_pass_pooling=False, graph_transform=False, normalization=True, pre_post_layers=1):\n",
        "    super(PNAnet, self).__init__()\n",
        "    self.sigmoid = nn.Sigmoid()\n",
        "\n",
        "    # Calculate x as the difference between mult_y and hidden_dim\n",
        "    hidden_channels = towers * ((hidden_channels // towers) + 1)\n",
        "    #out_channels = towers * ((out_channels // towers) + 1)\n",
        "\n",
        "    in_channels = NUM_CLASSES\n",
        "    if graph_transform:\n",
        "      in_channels += NODE_FEATURE_EXTEND\n",
        "    deg = dataset_to_degree_bin(train_dataset_example)\n",
        "    aggregators = ['mean', 'min', 'max', 'std']\n",
        "    scalers = ['identity', 'amplification', 'attenuation']\n",
        "    self.normalization = BatchNorm(hidden_channels) if normalization else None\n",
        "    self.pnanet = PNA(in_channels=in_channels, hidden_channels=hidden_channels, out_channels=hidden_channels, num_layers=depth, aggregators=aggregators, scalers=scalers, deg=deg, dropout=dropout, towers=towers, norm=self.normalization, pre_layers=pre_post_layers, post_layers=pre_post_layers)\n",
        "    self.single_pass_pooling = single_pass_pooling\n",
        "    self.graph_transform = graph_transform\n",
        "\n",
        "    self.final_mlp = Seq(Lin(hidden_channels, hidden_channels), nn.ReLU(), Lin(hidden_channels, hidden_channels), nn.ReLU(), Lin(hidden_channels, 1))\n",
        "\n",
        "\n",
        "  def forward(self, x_in, edge_index, batch):\n",
        "    x = note_features_to_one_hot(x_in)\n",
        "    if self.graph_transform:\n",
        "      x = extend_node_features(x, edge_index, batch)\n",
        "    x = self.pnanet(x, edge_index)\n",
        "\n",
        "    if self.single_pass_pooling:\n",
        "      x = global_mask_pool(x, x_in, batch)\n",
        "    else:\n",
        "      x = global_mean_pool(x, batch)\n",
        "\n",
        "    #x = x.sum(dim=1)\n",
        "    x = self.final_mlp(x)\n",
        "    x = self.sigmoid(x) + EPSILON # add eps to avoid div. by zero\n",
        "    return x.flatten()\n",
        "\n",
        "class PNAmulti(torch.nn.Module):\n",
        "  def __init__(self, train_dataset_example, hidden_channels=32, graph_transform=False, depth=4, dropout=0.0, towers=1, model_num=5, single_pass_pooling=False, normalization=True, pre_post_layers=1):\n",
        "    super(PNAmulti, self).__init__()\n",
        "    self.model_num = model_num\n",
        "    self.pna_list = nn.ModuleList()\n",
        "    self.sigmoid = nn.Sigmoid()\n",
        "    weights = torch.ones(model_num)\n",
        "    self.weights = nn.Parameter(weights)  # nn.Parameter is a Tensor that's a module parameter.\n",
        "    for i in range(model_num):\n",
        "      # towers is i+1\n",
        "      pna_model = PNAnet(train_dataset_example, hidden_channels=hidden_channels, graph_transform=graph_transform, depth=depth, dropout=dropout, towers=i+1, single_pass_pooling=single_pass_pooling, normalization=normalization, pre_post_layers=pre_post_layers)\n",
        "      self.pna_list.append(pna_model)\n",
        "\n",
        "  def get_normalized_weights(self):\n",
        "    w_sigmoid = self.sigmoid(self.weights)\n",
        "    w = w_sigmoid/w_sigmoid.sum()\n",
        "    return w\n",
        "\n",
        "  def forward(self, x, edge_index, batch):\n",
        "    x_agg = None\n",
        "    i_not = random.choice(range(len(self.pna_list))) if self.training  and len(self.pna_list) > 1 else -1 # skip 1 during training\n",
        "    w = self.get_normalized_weights()\n",
        "    for i, pna_model in enumerate(self.pna_list):\n",
        "      if i == i_not:\n",
        "        continue\n",
        "      if x_agg is None:\n",
        "        x_agg = pna_model(x, edge_index, batch) * w[i]\n",
        "      else:\n",
        "        x_agg = x_agg + pna_model( x, edge_index, batch) * w[i]\n",
        "    return x_agg\n"
      ]
    },
    {
      "cell_type": "code",
      "execution_count": null,
      "metadata": {
        "colab": {
          "base_uri": "https://localhost:8080/"
        },
        "id": "TTvXwuajPPOJ",
        "outputId": "adba64c6-aa2b-4272-84b5-2d1263fcabd0"
      },
      "outputs": [
        {
          "output_type": "stream",
          "name": "stdout",
          "text": [
            "PNAmulti(\n",
            "  (pna_list): ModuleList(\n",
            "    (0): PNAnet(\n",
            "      (sigmoid): Sigmoid()\n",
            "      (normalization): BatchNorm(33)\n",
            "      (pnanet): PNA(4, 33, num_layers=4)\n",
            "      (final_mlp): Sequential(\n",
            "        (0): Linear(in_features=33, out_features=33, bias=True)\n",
            "        (1): ReLU()\n",
            "        (2): Linear(in_features=33, out_features=33, bias=True)\n",
            "        (3): ReLU()\n",
            "        (4): Linear(in_features=33, out_features=1, bias=True)\n",
            "      )\n",
            "    )\n",
            "    (1): PNAnet(\n",
            "      (sigmoid): Sigmoid()\n",
            "      (normalization): BatchNorm(34)\n",
            "      (pnanet): PNA(4, 34, num_layers=4)\n",
            "      (final_mlp): Sequential(\n",
            "        (0): Linear(in_features=34, out_features=34, bias=True)\n",
            "        (1): ReLU()\n",
            "        (2): Linear(in_features=34, out_features=34, bias=True)\n",
            "        (3): ReLU()\n",
            "        (4): Linear(in_features=34, out_features=1, bias=True)\n",
            "      )\n",
            "    )\n",
            "    (2): PNAnet(\n",
            "      (sigmoid): Sigmoid()\n",
            "      (normalization): BatchNorm(33)\n",
            "      (pnanet): PNA(4, 33, num_layers=4)\n",
            "      (final_mlp): Sequential(\n",
            "        (0): Linear(in_features=33, out_features=33, bias=True)\n",
            "        (1): ReLU()\n",
            "        (2): Linear(in_features=33, out_features=33, bias=True)\n",
            "        (3): ReLU()\n",
            "        (4): Linear(in_features=33, out_features=1, bias=True)\n",
            "      )\n",
            "    )\n",
            "    (3): PNAnet(\n",
            "      (sigmoid): Sigmoid()\n",
            "      (normalization): BatchNorm(36)\n",
            "      (pnanet): PNA(4, 36, num_layers=4)\n",
            "      (final_mlp): Sequential(\n",
            "        (0): Linear(in_features=36, out_features=36, bias=True)\n",
            "        (1): ReLU()\n",
            "        (2): Linear(in_features=36, out_features=36, bias=True)\n",
            "        (3): ReLU()\n",
            "        (4): Linear(in_features=36, out_features=1, bias=True)\n",
            "      )\n",
            "    )\n",
            "    (4): PNAnet(\n",
            "      (sigmoid): Sigmoid()\n",
            "      (normalization): BatchNorm(35)\n",
            "      (pnanet): PNA(4, 35, num_layers=4)\n",
            "      (final_mlp): Sequential(\n",
            "        (0): Linear(in_features=35, out_features=35, bias=True)\n",
            "        (1): ReLU()\n",
            "        (2): Linear(in_features=35, out_features=35, bias=True)\n",
            "        (3): ReLU()\n",
            "        (4): Linear(in_features=35, out_features=1, bias=True)\n",
            "      )\n",
            "    )\n",
            "  )\n",
            "  (sigmoid): Sigmoid()\n",
            ")\n",
            "tensor([0.3920, 0.3920, 0.3920, 0.3920, 0.3920, 0.3920, 0.3920, 0.3920, 0.3920,\n",
            "        0.3920], device='cuda:0', grad_fn=<AddBackward0>)\n"
          ]
        }
      ],
      "source": [
        "model = PNAmulti(build_dataset())\n",
        "model.to(DEVICE)\n",
        "print(model) \n",
        "for step, data in enumerate(train_loader):\n",
        "  data.to(DEVICE)\n",
        "  print(model(data.x, data.edge_index, data.batch))\n",
        "  break"
      ]
    },
    {
      "cell_type": "code",
      "execution_count": null,
      "metadata": {
        "colab": {
          "base_uri": "https://localhost:8080/"
        },
        "id": "hSyYUfY1X6Os",
        "outputId": "65f514b8-0cbc-4ace-af53-d3ecd993a185"
      },
      "outputs": [
        {
          "output_type": "stream",
          "name": "stdout",
          "text": [
            "epoch: 000288  loss: -0.00010\n",
            "PNAnet(\n",
            "  (sigmoid): Sigmoid()\n",
            "  (normalization): BatchNorm(34)\n",
            "  (pnanet): PNA(4, 34, num_layers=4)\n",
            "  (final_mlp): Sequential(\n",
            "    (0): Linear(in_features=34, out_features=34, bias=True)\n",
            "    (1): ReLU()\n",
            "    (2): Linear(in_features=34, out_features=34, bias=True)\n",
            "    (3): ReLU()\n",
            "    (4): Linear(in_features=34, out_features=1, bias=True)\n",
            "  )\n",
            ")\n",
            "tensor([0.4636, 0.4636, 0.4636, 0.4636, 0.4636, 0.4636, 0.4636, 0.4636, 0.4636,\n",
            "        0.4636], device='cuda:0', grad_fn=<ReshapeAliasBackward0>)\n"
          ]
        }
      ],
      "source": [
        "model = PNAnet(build_dataset())\n",
        "model.to(DEVICE)\n",
        "print(model) \n",
        "for step, data in enumerate(train_loader):\n",
        "  data.to(DEVICE)\n",
        "  print(model(data.x, data.edge_index, data.batch))\n",
        "  break"
      ]
    },
    {
      "cell_type": "markdown",
      "metadata": {
        "id": "jB6WbKuwVdix"
      },
      "source": [
        "#### PNA2"
      ]
    },
    {
      "cell_type": "code",
      "execution_count": null,
      "metadata": {
        "id": "6Mvgyb_hVgpv"
      },
      "outputs": [],
      "source": [
        "from torch_geometric.nn import PNAConv\n",
        "\n",
        "class PNA2net(torch.nn.Module):\n",
        "  def __init__(self, train_dataset_example, hidden_dim=32, layer_num=4, dropout=0.0, normalization=False, tower_num=5, single_pass_pooling=False):\n",
        "    super().__init__()\n",
        "\n",
        "    aggregators = ['mean', 'min', 'max', 'std', 'var', 'sum']\n",
        "    scalers = ['identity', 'amplification', 'attenuation']\n",
        "    deg = dataset_to_degree_bin(train_dataset_example)\n",
        "\n",
        "    # Calculate x as the difference between mult_y and hidden_dim\n",
        "    hidden_dim = tower_num * ((hidden_dim // tower_num) + 1)\n",
        "\n",
        "    self.conv_list = nn.ModuleList()\n",
        "    self.batchnorm_list = nn.ModuleList()\n",
        "    self.mlp_list = nn.ModuleList()\n",
        "\n",
        "    self.dropout = dropout\n",
        "    self.normalization = normalization\n",
        "    self.sigmoid = nn.Sigmoid()\n",
        "    self.single_pass_pooling = single_pass_pooling\n",
        "\n",
        "    input_channels = NUM_CLASSES\n",
        "  \n",
        "\n",
        "    for i in range(layer_num):\n",
        "      in_dim = hidden_dim if i > 0 else input_channels \n",
        "      out_dim = hidden_dim if i < layer_num-1 else 1 \n",
        "      self.conv_list.append(PNAConv(in_channels=in_dim, out_channels=hidden_dim, aggregators=aggregators, scalers=scalers, deg=deg, towers=tower_num, pre_layers=1, post_layers=1, divide_input=False))\n",
        "      self.batchnorm_list.append(BatchNorm(hidden_dim))\n",
        "      self.mlp_list.append(Seq(nn.ReLU(), Lin(hidden_dim+NUM_CLASSES+in_dim, hidden_dim+NUM_CLASSES+in_dim), nn.ReLU(), Lin(hidden_dim+NUM_CLASSES+in_dim, hidden_dim+NUM_CLASSES+in_dim), nn.ReLU(), Lin(hidden_dim+NUM_CLASSES+in_dim, out_dim)))\n",
        "          \n",
        "  def forward(self, x_in, edge_index, batch):\n",
        "    x_onehot = note_features_to_one_hot(x_in)\n",
        "    x = x_onehot.clone()\n",
        "    for i in range(len(self.conv_list)):\n",
        "      x_in = x.clone()\n",
        "      x = self.conv_list[i](x, edge_index)\n",
        "      if self.normalization:\n",
        "        x = self.batchnorm_list[i](x)\n",
        "      x_concat = torch.concat([x, x_onehot, x_in], dim=1)\n",
        "      x = self.mlp_list[i](x_concat)\n",
        "      if i < len(self.conv_list)-1:\n",
        "        x = F.dropout(x, p=self.dropout, training=self.training)\n",
        "\n",
        "    if self.single_pass_pooling:\n",
        "      x = global_mask_pool(x, x_in, batch)\n",
        "    else:\n",
        "      x = global_mean_pool(x, batch)\n",
        "      \n",
        "    x = self.sigmoid(x) + EPSILON\n",
        "    return x.flatten()\n",
        "\n",
        "\n"
      ]
    },
    {
      "cell_type": "code",
      "execution_count": null,
      "metadata": {
        "colab": {
          "base_uri": "https://localhost:8080/"
        },
        "id": "rgjqgcfhY1gC",
        "outputId": "81e054f7-b5f5-489b-a373-5e1261e24a2c"
      },
      "outputs": [
        {
          "output_type": "stream",
          "name": "stdout",
          "text": [
            "PNA2net(\n",
            "  (conv_list): ModuleList(\n",
            "    (0): PNAConv(4, 35, towers=5, edge_dim=None)\n",
            "    (1-3): 3 x PNAConv(35, 35, towers=5, edge_dim=None)\n",
            "  )\n",
            "  (batchnorm_list): ModuleList(\n",
            "    (0-3): 4 x BatchNorm(35)\n",
            "  )\n",
            "  (mlp_list): ModuleList(\n",
            "    (0): Sequential(\n",
            "      (0): ReLU()\n",
            "      (1): Linear(in_features=43, out_features=43, bias=True)\n",
            "      (2): ReLU()\n",
            "      (3): Linear(in_features=43, out_features=43, bias=True)\n",
            "      (4): ReLU()\n",
            "      (5): Linear(in_features=43, out_features=35, bias=True)\n",
            "    )\n",
            "    (1-2): 2 x Sequential(\n",
            "      (0): ReLU()\n",
            "      (1): Linear(in_features=74, out_features=74, bias=True)\n",
            "      (2): ReLU()\n",
            "      (3): Linear(in_features=74, out_features=74, bias=True)\n",
            "      (4): ReLU()\n",
            "      (5): Linear(in_features=74, out_features=35, bias=True)\n",
            "    )\n",
            "    (3): Sequential(\n",
            "      (0): ReLU()\n",
            "      (1): Linear(in_features=74, out_features=74, bias=True)\n",
            "      (2): ReLU()\n",
            "      (3): Linear(in_features=74, out_features=74, bias=True)\n",
            "      (4): ReLU()\n",
            "      (5): Linear(in_features=74, out_features=1, bias=True)\n",
            "    )\n",
            "  )\n",
            "  (sigmoid): Sigmoid()\n",
            ")\n",
            "tensor([0.4726, 0.4726, 0.4726, 0.4726, 0.4726, 0.4726, 0.4726, 0.4726, 0.4726,\n",
            "        0.4726], device='cuda:0', grad_fn=<ReshapeAliasBackward0>)\n"
          ]
        }
      ],
      "source": [
        "model = PNA2net(build_dataset())\n",
        "model.to(DEVICE)\n",
        "print(model) \n",
        "for step, data in enumerate(train_loader):\n",
        "  data.to(DEVICE)\n",
        "  print(model(data.x, data.edge_index, data.batch))\n",
        "  break"
      ]
    },
    {
      "cell_type": "markdown",
      "metadata": {
        "id": "tph0rjhNS6iS"
      },
      "source": [
        "### Build Model"
      ]
    },
    {
      "cell_type": "code",
      "execution_count": null,
      "metadata": {
        "id": "gDKYLoMV6z6J"
      },
      "outputs": [],
      "source": [
        "def build_model(config, dataset):\n",
        "  hidden_dim = config.hidden_dim\n",
        "  single_pass_pooling = config.single_pass\n",
        "  if config.model == \"unet\":\n",
        "    model =  Unet(hidden_channels = hidden_dim,  out_channels = 1, depth=config.hidden_layer, single_pass_pooling=single_pass_pooling)\n",
        "  elif config.model == \"attention\":\n",
        "     model = AttentionNet(hidden_dim=hidden_dim, layer_num=config.hidden_layer, dropout=config.dropout, normalization=config.normalization, single_pass_pooling=single_pass_pooling)\n",
        "  elif config.model == \"transformer\":\n",
        "    model = TransformerNet(hidden_dim=hidden_dim, layer_num=config.hidden_layer, dropout=config.dropout, normalization=config.normalization, single_pass_pooling=single_pass_pooling)\n",
        "  elif config.model == \"pna\":\n",
        "    model = PNAnet(dataset, hidden_channels=hidden_dim, depth=config.hidden_layer, dropout=config.dropout, towers=config.towers, single_pass_pooling=single_pass_pooling, graph_transform=config.graph_transform, normalization=config.normalization, pre_post_layers=config.pre_post_layers)\n",
        "  elif config.model == \"pnamulti\":\n",
        "    model = PNAmulti(dataset, hidden_channels=hidden_dim, depth=config.hidden_layer, dropout=config.dropout, towers=config.towers, single_pass_pooling=single_pass_pooling, graph_transform=config.graph_transform, normalization=config.normalization, pre_post_layers=config.pre_post_layers)\n",
        "  elif config.model == \"pna2\":\n",
        "    model = PNA2net(dataset, hidden_dim=hidden_dim, layer_num=config.hidden_layer, dropout=config.dropout, normalization=config.normalization, single_pass_pooling=single_pass_pooling)\n",
        "  else:\n",
        "    ValueError(\"illegal net\")\n",
        "  return model.to(DEVICE)"
      ]
    },
    {
      "cell_type": "markdown",
      "metadata": {
        "id": "2GDOIysiiIGT"
      },
      "source": [
        "## Inference"
      ]
    },
    {
      "cell_type": "code",
      "execution_count": null,
      "metadata": {
        "id": "FsofkLkkP3GK"
      },
      "outputs": [],
      "source": [
        "def find_best_choice(model, g, test_choices, x, x_shape):\n",
        "  p_0_list = list()\n",
        "  p_1_list = list()\n",
        "  x_noedge_list = list()\n",
        "  x_edge_list = list()\n",
        "  mask_indicator_list = list()\n",
        "\n",
        "  for i, mask_indicator in enumerate(test_choices):\n",
        "    x_noedge, x_edge = x.clone(), x.clone()\n",
        "    x_noedge[mask_indicator] = NO_EDGE_INDICATOR\n",
        "    x_edge[mask_indicator] = EDGE_INDICATOR\n",
        "    batch = torch.zeros(x_shape[0], dtype=torch.long).to(DEVICE)\n",
        "    p_0 = model(x_noedge.view(x_shape), g.edge_index, batch=batch).item()\n",
        "    p_1 = model(x_edge.view(x_shape), g.edge_index, batch=batch).item()\n",
        "\n",
        "    p_0_list.append(p_0/(p_0+p_1))\n",
        "    p_1_list.append(p_1/(p_0+p_1))\n",
        "    x_noedge_list.append(x_noedge)\n",
        "    x_edge_list.append(x_edge)\n",
        "    mask_indicator_list.append(mask_indicator)\n",
        "\n",
        "  best_i = np.argmax(p_1_list)\n",
        "  return p_0_list[best_i], p_1_list[best_i], x_noedge_list[best_i],  x_edge_list[best_i], mask_indicator_list[best_i]\n",
        "\n",
        "\n",
        "def generate_graph_multi(model, g, choice_num=5):\n",
        "  x = g.x\n",
        "  x_shape = x.shape\n",
        "  x = x.flatten()\n",
        "  indices_of_edges = (x != DUMMY).nonzero(as_tuple=False).flatten()\n",
        "  num_edges = indices_of_edges.numel()\n",
        "  x[indices_of_edges] = MASK\n",
        "  indices_of_edges = indices_of_edges.flatten().tolist()\n",
        "\n",
        "  for _ in range(num_edges):\n",
        "    random.shuffle(indices_of_edges)\n",
        "    choice_num_i = min(choice_num, len(indices_of_edges)) \n",
        "    test_choices = indices_of_edges[0:choice_num_i]\n",
        "    p_0, p_1, x_noedge, x_edge, mask_indicator = find_best_choice(model, g, test_choices, x, x_shape)\n",
        "    random_selection_index = int(np.random.choice([0, 1], size=1, p=[p_0, p_1]))\n",
        "    x = (x_noedge, x_edge)[random_selection_index]\n",
        "    indices_of_edges.remove(mask_indicator)\n",
        "\n",
        "  g.x = x.reshape(x_shape)\n",
        "  return g"
      ]
    },
    {
      "cell_type": "code",
      "execution_count": null,
      "metadata": {
        "id": "DQay_Zy35bHr"
      },
      "outputs": [],
      "source": [
        "def generate_graph_singlepass(model, g):\n",
        "  # does not have multi\n",
        "  model.eval()\n",
        "  x = g.x\n",
        "  x_shape = x.shape\n",
        "  x = x.flatten()\n",
        "  indices_of_edges = (x != DUMMY).nonzero(as_tuple=False).flatten()\n",
        "  num_edges = indices_of_edges.numel()\n",
        "  x[indices_of_edges] = MASK\n",
        "  indices_of_edges = indices_of_edges.flatten().tolist()\n",
        "  random.shuffle(indices_of_edges)\n",
        "  batch = torch.zeros(x_shape[0], dtype=torch.long).to(DEVICE)\n",
        "\n",
        "  for edge_index in indices_of_edges:\n",
        "    x[edge_index] = -1.0\n",
        "    edge_prob = model(x.view(x_shape), g.edge_index, batch=batch).item()\n",
        "    assert(edge_prob > 0.0 and edge_prob < 1.0)\n",
        "    if random.random() < edge_prob:\n",
        "      x[edge_index] = EDGE_INDICATOR\n",
        "    else:\n",
        "      x[edge_index] = NO_EDGE_INDICATOR\n",
        "\n",
        "  g.x = x.reshape(x_shape)\n",
        "  return g\n"
      ]
    },
    {
      "cell_type": "code",
      "execution_count": null,
      "metadata": {
        "id": "_cN5gKKUiJTR"
      },
      "outputs": [],
      "source": [
        "@torch.inference_mode()\n",
        "def generate_graphs(num, epoch_i, model, g_like, config):\n",
        "  mean_degree_list = list()\n",
        "  var_degree_list = list()\n",
        "  for j in range(num):\n",
        "    if config.single_pass:\n",
        "      g = generate_graph_singlepass(model, g_like)\n",
        "    else:\n",
        "      g = generate_graph_multi(model, g_like, choice_num = config.candidate_selection_radius)\n",
        "    nx_orig_graph = draw_pyg(g, filename=f\"generated_graph_epoch{str(epoch_i).zfill(5)}_sample{str(j).zfill(5)}.jpg\")\n",
        "    degree_list = [nx_orig_graph.degree(i) for i in nx_orig_graph.nodes()]\n",
        "    mean_degree_list.append(np.mean(degree_list))\n",
        "    var_degree_list.append(np.var(degree_list))\n",
        "  return np.mean(mean_degree_list), np.mean(var_degree_list)"
      ]
    },
    {
      "cell_type": "markdown",
      "metadata": {
        "id": "GKxurLjrXnCo"
      },
      "source": [
        "## Generat Samples for Training"
      ]
    },
    {
      "cell_type": "code",
      "execution_count": null,
      "metadata": {
        "id": "nALlwSTtXmhx"
      },
      "outputs": [],
      "source": [
        "def gen_random_training_sample_unused(x):\n",
        "  x_masked = x.clone().reshape(-1)\n",
        "  indices_of_edges = (x_masked != DUMMY).nonzero(as_tuple=False).flatten()\n",
        "  num_edges = indices_of_edges.numel()\n",
        "  num_masked = torch.randint(1, num_edges+1, size=(1,), device=DEVICE)\n",
        "  #num_masked = sample_num_masked_geometric(1, num_edges+1)\n",
        "\n",
        "  shuffled_indices_of_edges = indices_of_edges[torch.randperm(indices_of_edges.numel())]\n",
        "  indices_of_edges_to_mask = shuffled_indices_of_edges[:num_masked]\n",
        "  \n",
        "  gt_value = x_masked[indices_of_edges_to_mask[0]].item() # we will change the first value back\n",
        "  x_masked[indices_of_edges_to_mask] = MASK\n",
        "\n",
        "\n",
        "  x_masked_0 = x_masked.clone()\n",
        "  x_masked_0[indices_of_edges_to_mask[0]] = NO_EDGE_INDICATOR\n",
        "  x_masked_0 = x_masked_0.reshape(x.shape)\n",
        "\n",
        "  x_masked_1 = x_masked.clone()\n",
        "  x_masked_1[indices_of_edges_to_mask[0]] = EDGE_INDICATOR\n",
        "  x_masked_1 = x_masked_1.reshape(x.shape)\n",
        "\n",
        "  if gt_value == NO_EDGE_INDICATOR:\n",
        "    return x_masked_0, x_masked_1\n",
        "  elif gt_value == EDGE_INDICATOR:\n",
        "    return x_masked_1, x_masked_0 \n",
        "  assert(False)\n",
        "\n",
        "  return None"
      ]
    },
    {
      "cell_type": "code",
      "execution_count": null,
      "metadata": {
        "id": "G-gIs8GVYm5l"
      },
      "outputs": [],
      "source": [
        "def sample_mask_and_flip(batch, x):\n",
        "  num_graphs = batch.view(-1)[-1]\n",
        "  x_id_mask = list()\n",
        "  x_id_flip = list()\n",
        "\n",
        "  for graph_id in range(num_graphs+1):\n",
        "    #num_nodes = (batch == graph_id).sum()\n",
        "    #indices_of_edges = (x != DUMMY and batch == graph_id).nonzero(as_tuple=False)\n",
        "    edge_indicator = x.view(-1) != DUMMY\n",
        "    batch_indicator = batch.view(-1) == graph_id \n",
        "    indices_of_edges = torch.nonzero(batch_indicator & edge_indicator)\n",
        "    indices_of_edges = indices_of_edges.flatten().tolist()\n",
        "    random.shuffle(indices_of_edges)\n",
        "    x_id_flip.append(indices_of_edges[-1])\n",
        "    num_masked = random.choice(range(len(indices_of_edges)))\n",
        "    x_id_mask = x_id_mask + indices_of_edges[:num_masked]\n",
        "\n",
        "  mask_and_flip_indicator = torch.zeros(batch.numel(), dtype=torch.long).to(DEVICE)\n",
        "  mask_and_flip_indicator[x_id_mask] = 1\n",
        "  mask_and_flip_indicator[x_id_flip] = 2\n",
        "\n",
        "  return mask_and_flip_indicator\n",
        "\n",
        "def mask_x_based_on_indicator(x, mask_and_flip_indicator):\n",
        "  x_new = x.clone()\n",
        "  to_mask = mask_and_flip_indicator == 1\n",
        "  x_new.view(-1)[to_mask] = MASK\n",
        "  return x_new\n",
        "\n",
        "\n",
        "# this is done inplace!\n",
        "def flip_x_based_on_indicator(x, mask_and_flip_indicator):\n",
        "  to_flip = (mask_and_flip_indicator == 2)#.to(DEVICE)\n",
        "  x = x.clone()  #sadly in-place operation not allowed here\n",
        "\n",
        "  #x[to_flip] = -x[to_flip]\n",
        "\n",
        "  x[to_flip] = torch.where(x[to_flip] == EDGE_INDICATOR, torch.tensor(NO_EDGE_INDICATOR).to(DEVICE), torch.tensor(EDGE_INDICATOR).to(DEVICE))\n",
        "\n",
        "  return x"
      ]
    },
    {
      "cell_type": "code",
      "execution_count": null,
      "metadata": {
        "colab": {
          "base_uri": "https://localhost:8080/"
        },
        "id": "1La4pbjWakyz",
        "outputId": "4543a451-884b-4b72-db21-502ca89be81b"
      },
      "outputs": [
        {
          "output_type": "execute_result",
          "data": {
            "text/plain": [
              "tensor([ True,  True,  True,  True,  True,  True,  True,  True,  True,  True,\n",
              "         True,  True,  True,  True,  True,  True,  True,  True,  True,  True,\n",
              "         True,  True,  True,  True,  True,  True,  True,  True,  True,  True,\n",
              "         True,  True,  True,  True,  True,  True,  True,  True,  True,  True,\n",
              "         True,  True,  True,  True, False,  True,  True,  True,  True,  True,\n",
              "         True,  True,  True,  True,  True,  True,  True,  True,  True,  True,\n",
              "         True,  True,  True,  True,  True,  True,  True,  True,  True,  True,\n",
              "         True,  True,  True,  True,  True,  True,  True,  True,  True,  True,\n",
              "         True,  True,  True,  True,  True,  True,  True,  True,  True,  True,\n",
              "         True,  True,  True,  True,  True,  True,  True,  True,  True,  True,\n",
              "         True,  True,  True,  True,  True,  True,  True,  True,  True,  True,\n",
              "         True,  True,  True,  True,  True,  True,  True,  True,  True,  True,\n",
              "        False,  True,  True,  True,  True,  True,  True,  True,  True,  True,\n",
              "         True,  True,  True,  True,  True,  True,  True,  True,  True,  True,\n",
              "         True,  True,  True,  True,  True,  True,  True,  True,  True,  True,\n",
              "         True,  True,  True,  True,  True,  True,  True,  True,  True,  True,\n",
              "         True,  True,  True,  True,  True,  True,  True,  True,  True,  True,\n",
              "         True,  True,  True,  True,  True,  True,  True,  True,  True,  True,\n",
              "         True,  True,  True,  True,  True,  True,  True,  True,  True,  True,\n",
              "         True,  True,  True,  True,  True,  True,  True,  True,  True,  True,\n",
              "         True,  True,  True,  True,  True,  True,  True,  True,  True,  True,\n",
              "         True,  True,  True,  True,  True,  True,  True,  True,  True,  True,\n",
              "         True,  True,  True,  True,  True,  True,  True,  True,  True,  True,\n",
              "         True, False,  True,  True,  True,  True,  True,  True,  True,  True,\n",
              "         True,  True,  True,  True,  True,  True,  True,  True,  True,  True,\n",
              "         True,  True,  True,  True,  True,  True,  True,  True,  True,  True,\n",
              "         True,  True,  True,  True,  True,  True,  True,  True,  True,  True,\n",
              "         True,  True,  True,  True,  True,  True,  True,  True,  True,  True,\n",
              "         True,  True,  True,  True,  True,  True,  True,  True,  True,  True,\n",
              "         True,  True,  True,  True,  True,  True,  True,  True,  True, False,\n",
              "         True,  True,  True,  True,  True,  True,  True,  True,  True,  True,\n",
              "         True,  True,  True,  True,  True,  True,  True,  True,  True,  True,\n",
              "         True,  True,  True,  True,  True,  True,  True,  True,  True,  True,\n",
              "         True,  True,  True,  True,  True,  True,  True, False,  True,  True,\n",
              "         True,  True,  True,  True,  True,  True,  True,  True,  True,  True,\n",
              "         True,  True,  True,  True,  True,  True,  True,  True,  True,  True,\n",
              "         True,  True,  True,  True,  True,  True,  True,  True,  True,  True,\n",
              "         True,  True,  True,  True,  True,  True,  True,  True,  True,  True,\n",
              "         True,  True,  True,  True,  True,  True,  True,  True,  True,  True,\n",
              "         True,  True,  True,  True,  True,  True,  True,  True,  True,  True,\n",
              "         True,  True,  True,  True,  True,  True,  True,  True,  True,  True,\n",
              "         True,  True,  True,  True,  True,  True,  True,  True,  True,  True,\n",
              "         True,  True,  True,  True, False,  True,  True,  True,  True,  True,\n",
              "         True,  True,  True,  True,  True,  True,  True,  True,  True,  True,\n",
              "         True,  True,  True,  True,  True,  True,  True,  True,  True,  True,\n",
              "         True,  True,  True,  True,  True,  True,  True,  True,  True,  True,\n",
              "         True,  True,  True,  True,  True,  True,  True,  True,  True,  True,\n",
              "         True,  True,  True,  True,  True,  True,  True,  True,  True,  True,\n",
              "         True,  True,  True,  True,  True,  True,  True,  True,  True,  True,\n",
              "         True,  True,  True,  True,  True,  True,  True,  True,  True,  True,\n",
              "         True,  True,  True,  True,  True,  True,  True,  True,  True,  True,\n",
              "         True,  True,  True,  True,  True,  True,  True,  True,  True,  True,\n",
              "         True,  True,  True,  True,  True,  True,  True,  True,  True,  True,\n",
              "         True,  True,  True,  True,  True,  True,  True,  True,  True,  True,\n",
              "         True,  True,  True,  True, False,  True,  True,  True,  True,  True,\n",
              "         True,  True,  True,  True,  True,  True,  True,  True,  True,  True,\n",
              "         True,  True,  True,  True,  True,  True,  True,  True,  True,  True,\n",
              "         True,  True,  True,  True,  True,  True,  True,  True,  True,  True,\n",
              "         True,  True,  True,  True,  True,  True,  True,  True,  True,  True,\n",
              "         True,  True,  True,  True,  True,  True,  True,  True,  True,  True,\n",
              "         True,  True,  True,  True,  True,  True,  True,  True,  True,  True,\n",
              "         True,  True,  True,  True, False,  True,  True,  True,  True,  True,\n",
              "         True,  True,  True,  True,  True,  True,  True,  True,  True, False,\n",
              "         True,  True,  True,  True,  True,  True,  True,  True,  True,  True,\n",
              "         True,  True,  True,  True,  True,  True,  True,  True,  True,  True,\n",
              "         True,  True,  True,  True,  True,  True,  True,  True,  True,  True,\n",
              "         True,  True,  True,  True,  True,  True,  True,  True,  True,  True,\n",
              "         True,  True,  True,  True,  True,  True,  True,  True,  True,  True,\n",
              "         True,  True,  True,  True,  True,  True,  True,  True,  True,  True,\n",
              "         True,  True,  True,  True,  True,  True,  True,  True,  True,  True,\n",
              "         True,  True,  True,  True,  True,  True,  True,  True,  True,  True,\n",
              "         True,  True,  True,  True,  True,  True,  True,  True,  True,  True,\n",
              "         True,  True,  True,  True,  True,  True,  True,  True,  True,  True,\n",
              "         True,  True,  True,  True,  True,  True,  True,  True,  True,  True,\n",
              "         True,  True,  True,  True,  True,  True,  True,  True,  True,  True,\n",
              "         True,  True,  True,  True,  True,  True,  True,  True,  True,  True,\n",
              "         True,  True,  True,  True,  True, False,  True,  True,  True,  True,\n",
              "         True,  True,  True,  True,  True,  True,  True,  True,  True,  True],\n",
              "       device='cuda:0')"
            ]
          },
          "metadata": {},
          "execution_count": 71
        }
      ],
      "source": [
        "for step, data in enumerate(train_loader):\n",
        "  data.to(DEVICE)\n",
        "  mask_and_flip_indicator = sample_mask_and_flip(data.batch, data.x)\n",
        "  break\n",
        "\n",
        "\n",
        "x = (mask_x_based_on_indicator(data.x, mask_and_flip_indicator))\n",
        "xz = x.clone()\n",
        "xx = (flip_x_based_on_indicator(x, mask_and_flip_indicator))\n",
        "\n",
        "(xz == xx).flatten()"
      ]
    },
    {
      "cell_type": "markdown",
      "metadata": {
        "id": "TulPGAH8R0Eo"
      },
      "source": [
        "## Compute Loss"
      ]
    },
    {
      "cell_type": "code",
      "execution_count": null,
      "metadata": {
        "id": "flDsYTRKR1ZB"
      },
      "outputs": [],
      "source": [
        "bce_loss = nn.BCELoss()\n",
        "def reduce_loss(loss_for_graph, config):\n",
        "  # loss_for_graph should be > 0\n",
        "  if config.loss == \"l1\":\n",
        "    return loss_for_graph.sum() \n",
        "  elif config.loss == \"l2\":\n",
        "    return F.mse_loss(loss_for_graph, torch.zeros_like(loss_for_graph))\n",
        "  elif config.loss == \"bce\":\n",
        "    return bce_loss(loss_for_graph, torch.zeros_like(loss_for_graph))\n",
        "  else:\n",
        "    raise ValueError(\"Illegal loss value\")\n"
      ]
    },
    {
      "cell_type": "markdown",
      "metadata": {
        "id": "SVx9HGc89VFe"
      },
      "source": [
        "## Training Loop"
      ]
    },
    {
      "cell_type": "code",
      "execution_count": null,
      "metadata": {
        "id": "K4M0XZ5Vpk5Z"
      },
      "outputs": [],
      "source": [
        "def prepare_x_for_single_pass(mask_and_flip_indicator, x):\n",
        "  x_new = x.clone()\n",
        "  to_mask = mask_and_flip_indicator == 1\n",
        "  x_new.view(-1)[to_mask] = MASK\n",
        "  choice_indicator = mask_and_flip_indicator == 2\n",
        "  x_new.view(-1)[choice_indicator] = -1 # this will be set to zero in the one hot encoding step\n",
        "  gt = x.clone().flatten()[choice_indicator]\n",
        "  gt = torch.where(gt == EDGE_INDICATOR, torch.tensor(1.0, device = DEVICE), torch.zeros_like(gt))\n",
        "  return x_new, gt"
      ]
    },
    {
      "cell_type": "code",
      "execution_count": null,
      "metadata": {
        "id": "gj5td9zue7HT"
      },
      "outputs": [],
      "source": [
        "def single_pass_prediction(data, model, config):\n",
        "  mask_and_flip_indicator = sample_mask_and_flip(data.batch, data.x)\n",
        "  x_in, out_gt = prepare_x_for_single_pass(mask_and_flip_indicator, data.x)\n",
        "\n",
        "  if model.training: x_in = flip_edges_randomly(x_in, config.noise_probability)\n",
        "\n",
        "  out_prediction = model(x_in, data.edge_index, data.batch) # between 0 ,1 \n",
        "\n",
        "  #print(\"out gt: \", out_gt.flatten(), \"   out pred:   \", out_prediction.flatten())\n",
        "\n",
        "  loss_for_graph =  torch.abs(out_prediction.flatten() - out_gt.flatten()) # between 0 and 1\n",
        "  return loss_for_graph "
      ]
    },
    {
      "cell_type": "code",
      "execution_count": null,
      "metadata": {
        "id": "sUfUS3OYfNxu"
      },
      "outputs": [],
      "source": [
        "def multi_pass_prediction(data, model, config):\n",
        "  mask_and_flip_indicator = sample_mask_and_flip(data.batch, data.x) # this then should also return gt \n",
        "  x = mask_x_based_on_indicator(data.x, mask_and_flip_indicator)\n",
        "\n",
        "  if model.training: x = flip_edges_randomly(x, config.noise_probability)\n",
        "\n",
        "  out_correct = model(x, data.edge_index, data.batch)  # is supposed to be 1 everywhere\n",
        "  x = flip_x_based_on_indicator(x, mask_and_flip_indicator)  # important to use x here and not data.x\n",
        "  out_incorrect = model(x, data.edge_index, data.batch) # is supposed to be 0 everywhere\n",
        "  loss_for_graph =  out_incorrect - out_correct # between -1 and 1\n",
        "  loss_for_graph = (loss_for_graph + 1.0) / 2.0   # between 0 and 1,\n",
        "  return loss_for_graph "
      ]
    },
    {
      "cell_type": "code",
      "execution_count": null,
      "metadata": {
        "id": "-_84ieMIoYh5"
      },
      "outputs": [],
      "source": [
        "def feed_data_to_model(data, model, config):\n",
        "  if config.single_pass == True:\n",
        "    return single_pass_prediction(data, model, config)\n",
        "  return multi_pass_prediction(data, model, config)"
      ]
    },
    {
      "cell_type": "markdown",
      "metadata": {
        "id": "f8RF9E-wfDXW"
      },
      "source": [
        "### Start Agent"
      ]
    },
    {
      "cell_type": "code",
      "execution_count": null,
      "metadata": {
        "id": "lDBAh9XPiO-a"
      },
      "outputs": [],
      "source": [
        "def start_agent(config):\n",
        "  graph_dataset = build_dataset()\n",
        "  model = build_model(config, graph_dataset)\n",
        "  wandb.log({\"num_parameters\": sum(p.numel() for p in model.parameters())})\n",
        "\n",
        "  optimizer = Adam(model.parameters(), lr = config.learning_rate) \n",
        "  train_loader = DataLoader(graph_dataset, batch_size=config.batch_size, shuffle=True)\n",
        "\n",
        "  for epoch_i in range(NUM_EPOCHS):\n",
        "    loss_list = list()\n",
        "    for step, data in enumerate(train_loader):\n",
        "      data.to(DEVICE)\n",
        "      model.train()\n",
        "      model.zero_grad()\n",
        "\n",
        "      loss_for_graph = feed_data_to_model(data, model, config) # between 0 and 1, probabilty of the incorrect choice\n",
        "      loss = reduce_loss(loss_for_graph, config)\n",
        "      loss.backward()\n",
        "      optimizer.step()\n",
        "\n",
        "      loss =  ((loss_for_graph.mean()).item()  -0.5 ) * 2.0 # between - 0.5 and 0.5 -> between - 1 and 1\n",
        "      loss_list.append(loss)\n",
        "      #wandb.log({\"epoch\": epoch_i+1, \"loss\": np.mean(loss_list)})\n",
        "\n",
        "    print('epoch: {:06}  loss: {:.5f}'.format(epoch_i+1 ,np.mean(loss_list)))\n",
        "    # early stopping\n",
        "    if np.mean(loss_list) > -0.000001 and (epoch_i > 199 and epoch_i % 100 == 0):\n",
        "      return\n",
        "\n",
        "    if epoch_i % 20 == 0 or epoch_i == NUM_EPOCHS-1:\n",
        "      dummy_graph = graph_dataset[0].clone().to(DEVICE)\n",
        "      num = NUM_GRAPHS_GENERATE if epoch_i != NUM_EPOCHS-1 else NUM_GRAPHS_GENERATE*5\n",
        "      deg_mean, deg_var = generate_graphs(NUM_GRAPHS_GENERATE, epoch_i, model, dummy_graph, config)\n",
        "      generator_loss = (DEGREE-deg_mean)**2 + deg_var\n",
        "      wandb.log({\"graph-unmasking/gen-loss\": generator_loss, \"mean degree\": deg_mean, \"mean degree var\":deg_var, \"graph-unmasking/loss\": np.mean(loss_list)})\n",
        "      print(deg_mean, deg_var)\n",
        "\n",
        "  torch.save(model.state_dict(), \"model.weights\")\n",
        "  wandb.log_artifact(\"model.weights\", name=f'nn_weights_{SWEEP_ID}', type='weights') \n",
        "\n",
        "\n",
        "\n",
        "    "
      ]
    },
    {
      "cell_type": "code",
      "execution_count": null,
      "metadata": {
        "id": "qPcPralV7IF0"
      },
      "outputs": [],
      "source": [
        "def start_agent_envelope():\n",
        "  try:\n",
        "    with wandb.init():\n",
        "      config = wandb.config\n",
        "      set_seeds(SWEEP_ID)\n",
        "      print(SWEEP_ID, config)\n",
        "      if not IN_COLAB:\n",
        "        for python_file in sorted(glob.glob('*.ipynb')):\n",
        "          wandb.log_artifact(python_file, name=f\"src_ipynb_{SWEEP_ID}\", type=\"my_dataset\")\n",
        "        for python_file in sorted(glob.glob('*.py')):\n",
        "          wandb.log_artifact(python_file, name=f\"src_py_{SWEEP_ID}\", type=\"my_dataset\")\n",
        "      return start_agent(config)\n",
        "  except Exception:\n",
        "    print(traceback.format_exc())\n",
        "    wandb.log({\"graph-unmasking/gen-loss\": -1,  \"epoch\": -1, \"graph-unmasking/loss\": -1})"
      ]
    },
    {
      "cell_type": "code",
      "execution_count": null,
      "metadata": {
        "colab": {
          "base_uri": "https://localhost:8080/",
          "height": 1000,
          "referenced_widgets": [
            "b37c973bdfa7408b9e8e652d54eb7c9c"
          ]
        },
        "id": "OHuZY5f_4NrN",
        "outputId": "201cd8d7-361c-4767-b561-f07b9ebdffbe"
      },
      "outputs": [
        {
          "metadata": {
            "tags": null
          },
          "name": "stdout",
          "output_type": "stream",
          "text": [
            "Create sweep with ID: 04w4qh3j\n",
            "Sweep URL: https://wandb.ai/nextaid/toad_prepost/sweeps/04w4qh3j\n"
          ]
        },
        {
          "metadata": {
            "tags": null
          },
          "name": "stderr",
          "output_type": "stream",
          "text": [
            "\u001b[34m\u001b[1mwandb\u001b[0m: Agent Starting Run: 00mvlb25 with config:\n",
            "\u001b[34m\u001b[1mwandb\u001b[0m: \tbatch_size: 100\n",
            "\u001b[34m\u001b[1mwandb\u001b[0m: \tcandidate_selection_radius: 1\n",
            "\u001b[34m\u001b[1mwandb\u001b[0m: \tdropout: 0\n",
            "\u001b[34m\u001b[1mwandb\u001b[0m: \tgraph_transform: True\n",
            "\u001b[34m\u001b[1mwandb\u001b[0m: \thidden_dim: 32\n",
            "\u001b[34m\u001b[1mwandb\u001b[0m: \thidden_layer: 4\n",
            "\u001b[34m\u001b[1mwandb\u001b[0m: \tlearning_rate: 0.0001\n",
            "\u001b[34m\u001b[1mwandb\u001b[0m: \tloss: l2\n",
            "\u001b[34m\u001b[1mwandb\u001b[0m: \tmodel: pna\n",
            "\u001b[34m\u001b[1mwandb\u001b[0m: \tnoise_probability: 0.05\n",
            "\u001b[34m\u001b[1mwandb\u001b[0m: \tnormalization: True\n",
            "\u001b[34m\u001b[1mwandb\u001b[0m: \tpre_post_layers: 3\n",
            "\u001b[34m\u001b[1mwandb\u001b[0m: \tsingle_pass: False\n",
            "\u001b[34m\u001b[1mwandb\u001b[0m: \ttowers: 1\n"
          ]
        },
        {
          "data": {
            "text/html": [
              "Tracking run with wandb version 0.14.2"
            ],
            "text/plain": [
              "<IPython.core.display.HTML object>"
            ]
          },
          "metadata": {},
          "output_type": "display_data"
        },
        {
          "data": {
            "text/html": [
              "Run data is saved locally in <code>/content/wandb/run-20230411_124555-00mvlb25</code>"
            ],
            "text/plain": [
              "<IPython.core.display.HTML object>"
            ]
          },
          "metadata": {},
          "output_type": "display_data"
        },
        {
          "data": {
            "text/html": [
              "Syncing run <strong><a href='https://wandb.ai/nextaid/toad_prepost/runs/00mvlb25' target=\"_blank\">wild-sweep-1</a></strong> to <a href='https://wandb.ai/nextaid/toad_prepost' target=\"_blank\">Weights & Biases</a> (<a href='https://wandb.me/run' target=\"_blank\">docs</a>)<br/>Sweep page: <a href='https://wandb.ai/nextaid/toad_prepost/sweeps/04w4qh3j' target=\"_blank\">https://wandb.ai/nextaid/toad_prepost/sweeps/04w4qh3j</a>"
            ],
            "text/plain": [
              "<IPython.core.display.HTML object>"
            ]
          },
          "metadata": {},
          "output_type": "display_data"
        },
        {
          "data": {
            "text/html": [
              " View project at <a href='https://wandb.ai/nextaid/toad_prepost' target=\"_blank\">https://wandb.ai/nextaid/toad_prepost</a>"
            ],
            "text/plain": [
              "<IPython.core.display.HTML object>"
            ]
          },
          "metadata": {},
          "output_type": "display_data"
        },
        {
          "data": {
            "text/html": [
              " View sweep at <a href='https://wandb.ai/nextaid/toad_prepost/sweeps/04w4qh3j' target=\"_blank\">https://wandb.ai/nextaid/toad_prepost/sweeps/04w4qh3j</a>"
            ],
            "text/plain": [
              "<IPython.core.display.HTML object>"
            ]
          },
          "metadata": {},
          "output_type": "display_data"
        },
        {
          "data": {
            "text/html": [
              " View run at <a href='https://wandb.ai/nextaid/toad_prepost/runs/00mvlb25' target=\"_blank\">https://wandb.ai/nextaid/toad_prepost/runs/00mvlb25</a>"
            ],
            "text/plain": [
              "<IPython.core.display.HTML object>"
            ]
          },
          "metadata": {},
          "output_type": "display_data"
        },
        {
          "metadata": {
            "tags": null
          },
          "name": "stdout",
          "output_type": "stream",
          "text": [
            "04w4qh3j {'batch_size': 100, 'candidate_selection_radius': 1, 'dropout': 0, 'graph_transform': True, 'hidden_dim': 32, 'hidden_layer': 4, 'learning_rate': 0.0001, 'loss': 'l2', 'model': 'pna', 'noise_probability': 0.05, 'normalization': True, 'pre_post_layers': 3, 'single_pass': False, 'towers': 1}\n",
            "epoch: 000001  loss: -0.00000\n",
            "5.35 2.2194444444444446\n",
            "epoch: 000002  loss: -0.00000\n",
            "epoch: 000003  loss: -0.00001\n",
            "epoch: 000004  loss: -0.00002\n",
            "epoch: 000005  loss: -0.00005\n",
            "epoch: 000006  loss: -0.00014\n",
            "epoch: 000007  loss: -0.00034\n",
            "epoch: 000008  loss: -0.00087\n",
            "epoch: 000009  loss: -0.00177\n",
            "epoch: 000010  loss: -0.00339\n",
            "epoch: 000011  loss: -0.00520\n",
            "epoch: 000012  loss: -0.00638\n",
            "epoch: 000013  loss: -0.00764\n",
            "epoch: 000014  loss: -0.01383\n",
            "epoch: 000015  loss: -0.01643\n",
            "epoch: 000016  loss: -0.02406\n",
            "epoch: 000017  loss: -0.02572\n",
            "epoch: 000018  loss: -0.04367\n",
            "epoch: 000019  loss: -0.03941\n",
            "epoch: 000020  loss: -0.06975\n",
            "epoch: 000021  loss: -0.08582\n",
            "5.416666666666666 2.558333333333333\n",
            "epoch: 000022  loss: -0.03450\n",
            "epoch: 000023  loss: -0.10051\n",
            "epoch: 000024  loss: -0.14652\n",
            "epoch: 000025  loss: -0.13508\n",
            "epoch: 000026  loss: -0.15287\n",
            "epoch: 000027  loss: -0.12950\n",
            "epoch: 000028  loss: -0.18849\n",
            "epoch: 000029  loss: -0.21626\n",
            "epoch: 000030  loss: -0.25685\n",
            "epoch: 000031  loss: -0.18004\n",
            "epoch: 000032  loss: -0.20850\n",
            "epoch: 000033  loss: -0.10804\n",
            "epoch: 000034  loss: -0.09093\n",
            "epoch: 000035  loss: -0.00818\n",
            "epoch: 000036  loss: -0.10150\n",
            "epoch: 000037  loss: -0.18194\n",
            "epoch: 000038  loss: -0.06562\n",
            "epoch: 000039  loss: -0.20746\n",
            "epoch: 000040  loss: -0.26479\n",
            "epoch: 000041  loss: -0.03477\n",
            "5.116666666666666 1.863888888888889\n",
            "epoch: 000042  loss: -0.00010\n",
            "epoch: 000043  loss: -0.00004\n",
            "epoch: 000044  loss: -0.00003\n",
            "epoch: 000045  loss: -0.00002\n",
            "epoch: 000046  loss: -0.00003\n",
            "epoch: 000047  loss: -0.00001\n",
            "epoch: 000048  loss: -0.00002\n",
            "epoch: 000049  loss: -0.00005\n",
            "epoch: 000050  loss: -0.00002\n",
            "epoch: 000051  loss: -0.00004\n",
            "epoch: 000052  loss: -0.00003\n",
            "epoch: 000053  loss: -0.00001\n",
            "epoch: 000054  loss: -0.00004\n",
            "epoch: 000055  loss: -0.00002\n",
            "epoch: 000056  loss: -0.00003\n",
            "epoch: 000057  loss: -0.00004\n",
            "epoch: 000058  loss: -0.00002\n",
            "epoch: 000059  loss: -0.00002\n",
            "epoch: 000060  loss: -0.00002\n",
            "epoch: 000061  loss: -0.00002\n",
            "4.9833333333333325 2.5527777777777776\n",
            "epoch: 000062  loss: -0.00002\n",
            "epoch: 000063  loss: -0.00003\n",
            "epoch: 000064  loss: -0.00003\n",
            "epoch: 000065  loss: -0.00003\n",
            "epoch: 000066  loss: -0.00002\n",
            "epoch: 000067  loss: -0.00003\n",
            "epoch: 000068  loss: -0.00004\n",
            "epoch: 000069  loss: -0.00003\n",
            "epoch: 000070  loss: -0.00003\n",
            "epoch: 000071  loss: -0.00002\n",
            "epoch: 000072  loss: -0.00003\n",
            "epoch: 000073  loss: -0.00003\n",
            "epoch: 000074  loss: -0.00002\n",
            "epoch: 000075  loss: -0.00002\n",
            "epoch: 000076  loss: -0.00004\n",
            "epoch: 000077  loss: -0.00005\n",
            "epoch: 000078  loss: -0.00003\n",
            "epoch: 000079  loss: -0.00004\n",
            "epoch: 000080  loss: -0.00003\n",
            "epoch: 000081  loss: -0.00005\n",
            "5.15 2.0694444444444446\n",
            "epoch: 000082  loss: -0.00003\n",
            "epoch: 000083  loss: -0.00005\n",
            "epoch: 000084  loss: -0.00004\n",
            "epoch: 000085  loss: -0.00005\n",
            "epoch: 000086  loss: -0.00003\n",
            "epoch: 000087  loss: -0.00006\n",
            "epoch: 000088  loss: -0.00004\n",
            "epoch: 000089  loss: -0.00006\n",
            "epoch: 000090  loss: -0.00006\n",
            "epoch: 000091  loss: -0.00005\n",
            "epoch: 000092  loss: -0.00006\n",
            "epoch: 000093  loss: -0.00009\n",
            "epoch: 000094  loss: -0.00009\n",
            "epoch: 000095  loss: -0.00012\n",
            "epoch: 000096  loss: -0.00010\n",
            "epoch: 000097  loss: -0.00010\n",
            "epoch: 000098  loss: -0.00019\n",
            "epoch: 000099  loss: -0.00016\n",
            "epoch: 000100  loss: -0.00015\n",
            "epoch: 000101  loss: -0.00020\n",
            "4.683333333333333 1.7194444444444443\n",
            "epoch: 000102  loss: -0.00019\n",
            "epoch: 000103  loss: -0.00026\n",
            "epoch: 000104  loss: -0.00032\n",
            "epoch: 000105  loss: -0.00054\n",
            "epoch: 000106  loss: -0.00042\n",
            "epoch: 000107  loss: -0.00057\n",
            "epoch: 000108  loss: -0.00060\n",
            "epoch: 000109  loss: -0.00112\n",
            "epoch: 000110  loss: -0.00144\n",
            "epoch: 000111  loss: -0.00162\n",
            "epoch: 000112  loss: -0.00276\n",
            "epoch: 000113  loss: -0.00495\n",
            "epoch: 000114  loss: -0.00764\n",
            "epoch: 000115  loss: -0.04547\n",
            "epoch: 000116  loss: -0.11146\n",
            "epoch: 000117  loss: -0.00042\n",
            "epoch: 000118  loss: -0.00041\n",
            "epoch: 000119  loss: -0.00032\n",
            "epoch: 000120  loss: -0.00100\n",
            "epoch: 000121  loss: -0.00578\n",
            "4.083333333333334 1.7583333333333333\n",
            "epoch: 000122  loss: -0.02124\n",
            "epoch: 000123  loss: -0.05924\n",
            "epoch: 000124  loss: -0.17641\n",
            "epoch: 000125  loss: -0.02646\n",
            "epoch: 000126  loss: -0.00025\n",
            "epoch: 000127  loss: -0.00016\n",
            "epoch: 000128  loss: -0.00012\n",
            "epoch: 000129  loss: -0.00014\n",
            "epoch: 000130  loss: -0.00012\n",
            "epoch: 000131  loss: -0.00012\n",
            "epoch: 000132  loss: -0.00014\n",
            "epoch: 000133  loss: -0.00016\n",
            "epoch: 000134  loss: -0.00014\n",
            "epoch: 000135  loss: -0.00016\n",
            "epoch: 000136  loss: -0.00021\n",
            "epoch: 000137  loss: -0.00020\n",
            "epoch: 000138  loss: -0.00021\n",
            "epoch: 000139  loss: -0.00024\n",
            "epoch: 000140  loss: -0.00021\n",
            "epoch: 000141  loss: -0.00027\n",
            "5.2 2.3944444444444444\n",
            "epoch: 000142  loss: -0.00022\n",
            "epoch: 000143  loss: -0.00029\n",
            "epoch: 000144  loss: -0.00036\n",
            "epoch: 000145  loss: -0.00022\n",
            "epoch: 000146  loss: -0.00034\n",
            "epoch: 000147  loss: -0.00034\n",
            "epoch: 000148  loss: -0.00044\n",
            "epoch: 000149  loss: -0.00044\n",
            "epoch: 000150  loss: -0.00048\n",
            "epoch: 000151  loss: -0.00056\n",
            "epoch: 000152  loss: -0.00061\n",
            "epoch: 000153  loss: -0.00069\n",
            "epoch: 000154  loss: -0.00075\n",
            "epoch: 000155  loss: -0.00096\n",
            "epoch: 000156  loss: -0.00131\n",
            "epoch: 000157  loss: -0.00130\n",
            "epoch: 000158  loss: -0.00162\n",
            "epoch: 000159  loss: -0.00188\n",
            "epoch: 000160  loss: -0.00244\n",
            "epoch: 000161  loss: -0.00250\n",
            "5.0166666666666675 2.302777777777778\n",
            "epoch: 000162  loss: -0.00352\n",
            "epoch: 000163  loss: -0.00429\n",
            "epoch: 000164  loss: -0.00444\n",
            "epoch: 000165  loss: -0.00457\n",
            "epoch: 000166  loss: -0.00437\n",
            "epoch: 000167  loss: -0.00568\n",
            "epoch: 000168  loss: -0.00864\n",
            "epoch: 000169  loss: -0.00941\n",
            "epoch: 000170  loss: -0.01932\n",
            "epoch: 000171  loss: -0.03271\n",
            "epoch: 000172  loss: -0.05697\n",
            "epoch: 000173  loss: -0.06632\n",
            "epoch: 000174  loss: -0.03551\n",
            "epoch: 000175  loss: -0.05008\n",
            "epoch: 000176  loss: -0.04341\n",
            "epoch: 000177  loss: -0.10063\n",
            "epoch: 000178  loss: -0.20174\n",
            "epoch: 000179  loss: -0.12637\n",
            "epoch: 000180  loss: -0.10325\n",
            "epoch: 000181  loss: -0.14825\n",
            "4.05 1.9972222222222225\n",
            "epoch: 000182  loss: -0.24680\n",
            "epoch: 000183  loss: -0.38304\n",
            "epoch: 000184  loss: -0.15846\n",
            "epoch: 000185  loss: -0.00017\n",
            "epoch: 000186  loss: -0.00003\n",
            "epoch: 000187  loss: -0.00002\n",
            "epoch: 000188  loss: -0.00002\n",
            "epoch: 000189  loss: -0.00003\n",
            "epoch: 000190  loss: -0.00002\n",
            "epoch: 000191  loss: -0.00002\n",
            "epoch: 000192  loss: -0.00002\n",
            "epoch: 000193  loss: -0.00002\n",
            "epoch: 000194  loss: -0.00002\n",
            "epoch: 000195  loss: -0.00001\n",
            "epoch: 000196  loss: -0.00002\n",
            "epoch: 000197  loss: -0.00002\n",
            "epoch: 000198  loss: -0.00001\n",
            "epoch: 000199  loss: -0.00002\n",
            "epoch: 000200  loss: -0.00001\n",
            "epoch: 000201  loss: -0.00002\n",
            "4.65 1.713888888888889\n",
            "epoch: 000202  loss: -0.00002\n",
            "epoch: 000203  loss: -0.00002\n",
            "epoch: 000204  loss: -0.00002\n",
            "epoch: 000205  loss: -0.00002\n",
            "epoch: 000206  loss: -0.00002\n",
            "epoch: 000207  loss: -0.00001\n",
            "epoch: 000208  loss: -0.00001\n",
            "epoch: 000209  loss: -0.00003\n",
            "epoch: 000210  loss: -0.00003\n",
            "epoch: 000211  loss: -0.00001\n",
            "epoch: 000212  loss: -0.00001\n",
            "epoch: 000213  loss: -0.00002\n",
            "epoch: 000214  loss: -0.00002\n",
            "epoch: 000215  loss: -0.00002\n",
            "epoch: 000216  loss: -0.00002\n",
            "epoch: 000217  loss: -0.00002\n",
            "epoch: 000218  loss: -0.00002\n",
            "epoch: 000219  loss: -0.00002\n",
            "epoch: 000220  loss: -0.00003\n",
            "epoch: 000221  loss: -0.00002\n",
            "4.75 2.0638888888888887\n",
            "epoch: 000222  loss: -0.00001\n",
            "epoch: 000223  loss: -0.00002\n",
            "epoch: 000224  loss: -0.00002\n",
            "epoch: 000225  loss: -0.00001\n",
            "epoch: 000226  loss: -0.00003\n",
            "epoch: 000227  loss: -0.00002\n",
            "epoch: 000228  loss: -0.00003\n",
            "epoch: 000229  loss: -0.00002\n",
            "epoch: 000230  loss: -0.00002\n",
            "epoch: 000231  loss: -0.00001\n",
            "epoch: 000232  loss: -0.00002\n",
            "epoch: 000233  loss: -0.00002\n",
            "epoch: 000234  loss: -0.00002\n",
            "epoch: 000235  loss: -0.00003\n",
            "epoch: 000236  loss: -0.00002\n",
            "epoch: 000237  loss: -0.00002\n",
            "epoch: 000238  loss: -0.00003\n",
            "epoch: 000239  loss: -0.00003\n",
            "epoch: 000240  loss: -0.00003\n",
            "epoch: 000241  loss: -0.00003\n",
            "4.483333333333333 1.6027777777777779\n",
            "epoch: 000242  loss: -0.00003\n",
            "epoch: 000243  loss: -0.00003\n",
            "epoch: 000244  loss: -0.00003\n",
            "epoch: 000245  loss: -0.00003\n",
            "epoch: 000246  loss: -0.00003\n",
            "epoch: 000247  loss: -0.00003\n",
            "epoch: 000248  loss: -0.00003\n",
            "epoch: 000249  loss: -0.00003\n",
            "epoch: 000250  loss: -0.00003\n",
            "epoch: 000251  loss: -0.00003\n",
            "epoch: 000252  loss: -0.00003\n",
            "epoch: 000253  loss: -0.00002\n",
            "epoch: 000254  loss: -0.00002\n",
            "epoch: 000255  loss: -0.00004\n",
            "epoch: 000256  loss: -0.00003\n",
            "epoch: 000257  loss: -0.00003\n",
            "epoch: 000258  loss: -0.00004\n",
            "epoch: 000259  loss: -0.00003\n",
            "epoch: 000260  loss: -0.00003\n",
            "epoch: 000261  loss: -0.00002\n",
            "4.466666666666667 1.7166666666666668\n",
            "epoch: 000262  loss: -0.00005\n",
            "epoch: 000263  loss: -0.00003\n",
            "epoch: 000264  loss: -0.00004\n",
            "epoch: 000265  loss: -0.00004\n",
            "epoch: 000266  loss: -0.00004\n",
            "epoch: 000267  loss: -0.00004\n",
            "epoch: 000268  loss: -0.00004\n",
            "epoch: 000269  loss: -0.00004\n",
            "epoch: 000270  loss: -0.00004\n",
            "epoch: 000271  loss: -0.00003\n",
            "epoch: 000272  loss: -0.00003\n",
            "epoch: 000273  loss: -0.00003\n",
            "epoch: 000274  loss: -0.00005\n",
            "epoch: 000275  loss: -0.00003\n",
            "epoch: 000276  loss: -0.00003\n",
            "epoch: 000277  loss: -0.00005\n",
            "epoch: 000278  loss: -0.00004\n",
            "epoch: 000279  loss: -0.00005\n",
            "epoch: 000280  loss: -0.00006\n",
            "epoch: 000281  loss: -0.00005\n",
            "4.416666666666666 1.8083333333333331\n",
            "epoch: 000282  loss: -0.00005\n",
            "epoch: 000283  loss: -0.00004\n",
            "epoch: 000284  loss: -0.00006\n",
            "epoch: 000285  loss: -0.00005\n",
            "epoch: 000286  loss: -0.00006\n",
            "epoch: 000287  loss: -0.00008\n",
            "epoch: 000288  loss: -0.00006\n",
            "epoch: 000289  loss: -0.00007\n",
            "epoch: 000290  loss: -0.00006\n",
            "epoch: 000291  loss: -0.00006\n",
            "epoch: 000292  loss: -0.00007\n",
            "epoch: 000293  loss: -0.00007\n",
            "epoch: 000294  loss: -0.00007\n",
            "epoch: 000295  loss: -0.00009\n",
            "epoch: 000296  loss: -0.00006\n",
            "epoch: 000297  loss: -0.00006\n",
            "epoch: 000298  loss: -0.00008\n",
            "epoch: 000299  loss: -0.00008\n",
            "epoch: 000300  loss: -0.00009\n",
            "epoch: 000301  loss: -0.00010\n",
            "4.65 1.425\n",
            "epoch: 000302  loss: -0.00010\n",
            "epoch: 000303  loss: -0.00005\n",
            "epoch: 000304  loss: -0.00008\n",
            "epoch: 000305  loss: -0.00012\n",
            "epoch: 000306  loss: -0.00011\n",
            "epoch: 000307  loss: -0.00012\n",
            "epoch: 000308  loss: -0.00011\n",
            "epoch: 000309  loss: -0.00012\n",
            "epoch: 000310  loss: -0.00016\n",
            "epoch: 000311  loss: -0.00012\n",
            "epoch: 000312  loss: -0.00021\n",
            "epoch: 000313  loss: -0.00017\n",
            "epoch: 000314  loss: -0.00017\n",
            "epoch: 000315  loss: -0.00016\n",
            "epoch: 000316  loss: -0.00013\n",
            "epoch: 000317  loss: -0.00019\n",
            "epoch: 000318  loss: -0.00023\n",
            "epoch: 000319  loss: -0.00019\n",
            "epoch: 000320  loss: -0.00023\n",
            "epoch: 000321  loss: -0.00027\n",
            "4.783333333333333 1.463888888888889\n",
            "epoch: 000322  loss: -0.00037\n",
            "epoch: 000323  loss: -0.00042\n",
            "epoch: 000324  loss: -0.00031\n",
            "epoch: 000325  loss: -0.00037\n",
            "epoch: 000326  loss: -0.00060\n",
            "epoch: 000327  loss: -0.00061\n",
            "epoch: 000328  loss: -0.00049\n",
            "epoch: 000329  loss: -0.00100\n",
            "epoch: 000330  loss: -0.00082\n",
            "epoch: 000331  loss: -0.00110\n",
            "epoch: 000332  loss: -0.00174\n",
            "epoch: 000333  loss: -0.00246\n",
            "epoch: 000334  loss: -0.00360\n",
            "epoch: 000335  loss: -0.00457\n",
            "epoch: 000336  loss: -0.01039\n",
            "epoch: 000337  loss: -0.04937\n",
            "epoch: 000338  loss: -0.03944\n",
            "epoch: 000339  loss: -0.03110\n",
            "epoch: 000340  loss: -0.02762\n",
            "epoch: 000341  loss: -0.03737\n",
            "3.066666666666667 1.2388888888888887\n",
            "epoch: 000342  loss: -0.05892\n",
            "epoch: 000343  loss: -0.05371\n",
            "epoch: 000344  loss: -0.09353\n",
            "epoch: 000345  loss: -0.12436\n",
            "epoch: 000346  loss: -0.02931\n",
            "epoch: 000347  loss: -0.06078\n",
            "epoch: 000348  loss: -0.03953\n",
            "epoch: 000349  loss: -0.09366\n",
            "epoch: 000350  loss: -0.14803\n",
            "epoch: 000351  loss: -0.22070\n",
            "epoch: 000352  loss: -0.14759\n",
            "epoch: 000353  loss: -0.26972\n",
            "epoch: 000354  loss: -0.31203\n",
            "epoch: 000355  loss: -0.25785\n",
            "epoch: 000356  loss: -0.00005\n",
            "epoch: 000357  loss: -0.00001\n",
            "epoch: 000358  loss: -0.00000\n",
            "epoch: 000359  loss: -0.00000\n",
            "epoch: 000360  loss: -0.00000\n",
            "epoch: 000361  loss: -0.00000\n",
            "4.45 1.847222222222222\n",
            "epoch: 000362  loss: -0.00000\n",
            "epoch: 000363  loss: -0.00000\n",
            "epoch: 000364  loss: -0.00000\n",
            "epoch: 000365  loss: -0.00000\n",
            "epoch: 000366  loss: -0.00000\n",
            "epoch: 000367  loss: -0.00000\n",
            "epoch: 000368  loss: -0.00000\n",
            "epoch: 000369  loss: -0.00000\n",
            "epoch: 000370  loss: -0.00000\n",
            "epoch: 000371  loss: -0.00000\n",
            "epoch: 000372  loss: -0.00000\n",
            "epoch: 000373  loss: -0.00000\n",
            "epoch: 000374  loss: -0.00000\n",
            "epoch: 000375  loss: -0.00000\n",
            "epoch: 000376  loss: -0.00000\n",
            "epoch: 000377  loss: -0.00000\n",
            "epoch: 000378  loss: -0.00000\n",
            "epoch: 000379  loss: -0.00000\n",
            "epoch: 000380  loss: -0.00000\n",
            "epoch: 000381  loss: -0.00000\n",
            "5.116666666666666 2.0249999999999995\n",
            "epoch: 000382  loss: -0.00000\n",
            "epoch: 000383  loss: -0.00000\n",
            "epoch: 000384  loss: -0.00000\n",
            "epoch: 000385  loss: -0.00000\n",
            "epoch: 000386  loss: -0.00000\n",
            "epoch: 000387  loss: -0.00000\n",
            "epoch: 000388  loss: -0.00000\n",
            "epoch: 000389  loss: -0.00000\n",
            "epoch: 000390  loss: -0.00000\n",
            "epoch: 000391  loss: -0.00000\n",
            "epoch: 000392  loss: -0.00000\n",
            "epoch: 000393  loss: -0.00000\n",
            "epoch: 000394  loss: -0.00000\n",
            "epoch: 000395  loss: -0.00000\n",
            "epoch: 000396  loss: -0.00000\n",
            "epoch: 000397  loss: -0.00000\n",
            "epoch: 000398  loss: -0.00000\n",
            "epoch: 000399  loss: -0.00000\n",
            "epoch: 000400  loss: -0.00000\n",
            "epoch: 000401  loss: -0.00000\n",
            "4.9833333333333325 1.975\n",
            "epoch: 000402  loss: -0.00000\n",
            "epoch: 000403  loss: -0.00000\n",
            "epoch: 000404  loss: -0.00000\n",
            "epoch: 000405  loss: -0.00000\n",
            "epoch: 000406  loss: -0.00000\n",
            "epoch: 000407  loss: -0.00000\n",
            "epoch: 000408  loss: -0.00000\n",
            "epoch: 000409  loss: -0.00000\n",
            "epoch: 000410  loss: -0.00000\n",
            "epoch: 000411  loss: -0.00000\n",
            "epoch: 000412  loss: -0.00000\n",
            "epoch: 000413  loss: -0.00000\n",
            "epoch: 000414  loss: -0.00000\n",
            "epoch: 000415  loss: -0.00000\n",
            "epoch: 000416  loss: -0.00000\n",
            "epoch: 000417  loss: -0.00000\n",
            "epoch: 000418  loss: -0.00000\n",
            "epoch: 000419  loss: -0.00000\n",
            "epoch: 000420  loss: -0.00000\n",
            "epoch: 000421  loss: -0.00000\n",
            "4.7 2.155555555555556\n",
            "epoch: 000422  loss: -0.00000\n",
            "epoch: 000423  loss: -0.00000\n",
            "epoch: 000424  loss: -0.00000\n",
            "epoch: 000425  loss: -0.00000\n",
            "epoch: 000426  loss: -0.00000\n",
            "epoch: 000427  loss: -0.00000\n",
            "epoch: 000428  loss: -0.00000\n",
            "epoch: 000429  loss: -0.00000\n",
            "epoch: 000430  loss: -0.00000\n",
            "epoch: 000431  loss: -0.00000\n",
            "epoch: 000432  loss: -0.00000\n",
            "epoch: 000433  loss: -0.00000\n",
            "epoch: 000434  loss: -0.00000\n",
            "epoch: 000435  loss: -0.00000\n",
            "epoch: 000436  loss: -0.00000\n",
            "epoch: 000437  loss: -0.00000\n",
            "epoch: 000438  loss: -0.00000\n",
            "epoch: 000439  loss: -0.00000\n",
            "epoch: 000440  loss: -0.00000\n",
            "epoch: 000441  loss: -0.00000\n",
            "4.666666666666666 2.111111111111111\n",
            "epoch: 000442  loss: -0.00000\n",
            "epoch: 000443  loss: -0.00000\n",
            "epoch: 000444  loss: -0.00000\n",
            "epoch: 000445  loss: -0.00000\n",
            "epoch: 000446  loss: -0.00000\n",
            "epoch: 000447  loss: -0.00000\n",
            "epoch: 000448  loss: -0.00000\n",
            "epoch: 000449  loss: -0.00000\n",
            "epoch: 000450  loss: -0.00000\n",
            "epoch: 000451  loss: -0.00000\n",
            "epoch: 000452  loss: -0.00000\n",
            "epoch: 000453  loss: -0.00000\n",
            "epoch: 000454  loss: -0.00000\n",
            "epoch: 000455  loss: -0.00000\n",
            "epoch: 000456  loss: -0.00000\n",
            "epoch: 000457  loss: -0.00000\n",
            "epoch: 000458  loss: -0.00000\n",
            "epoch: 000459  loss: -0.00000\n",
            "epoch: 000460  loss: -0.00000\n",
            "epoch: 000461  loss: -0.00000\n",
            "4.6 1.6277777777777778\n",
            "epoch: 000462  loss: -0.00000\n",
            "epoch: 000463  loss: -0.00000\n",
            "epoch: 000464  loss: -0.00000\n",
            "epoch: 000465  loss: -0.00000\n",
            "epoch: 000466  loss: -0.00000\n",
            "epoch: 000467  loss: -0.00000\n",
            "epoch: 000468  loss: -0.00000\n",
            "epoch: 000469  loss: -0.00000\n",
            "epoch: 000470  loss: -0.00000\n",
            "epoch: 000471  loss: -0.00000\n",
            "epoch: 000472  loss: -0.00001\n",
            "epoch: 000473  loss: -0.00000\n",
            "epoch: 000474  loss: -0.00000\n",
            "epoch: 000475  loss: -0.00000\n",
            "epoch: 000476  loss: -0.00000\n",
            "epoch: 000477  loss: -0.00000\n",
            "epoch: 000478  loss: -0.00000\n",
            "epoch: 000479  loss: -0.00000\n",
            "epoch: 000480  loss: -0.00000\n",
            "epoch: 000481  loss: -0.00000\n",
            "4.749999999999999 1.9805555555555556\n",
            "epoch: 000482  loss: -0.00000\n",
            "epoch: 000483  loss: -0.00000\n",
            "epoch: 000484  loss: -0.00000\n",
            "epoch: 000485  loss: -0.00000\n",
            "epoch: 000486  loss: -0.00000\n",
            "epoch: 000487  loss: -0.00000\n",
            "epoch: 000488  loss: -0.00000\n",
            "epoch: 000489  loss: -0.00000\n",
            "epoch: 000490  loss: -0.00000\n",
            "epoch: 000491  loss: -0.00000\n",
            "epoch: 000492  loss: -0.00000\n",
            "epoch: 000493  loss: -0.00000\n",
            "epoch: 000494  loss: -0.00000\n",
            "epoch: 000495  loss: -0.00000\n",
            "epoch: 000496  loss: -0.00000\n",
            "epoch: 000497  loss: -0.00001\n",
            "epoch: 000498  loss: -0.00000\n",
            "epoch: 000499  loss: -0.00000\n",
            "epoch: 000500  loss: -0.00000\n",
            "epoch: 000501  loss: -0.00000\n",
            "5.0 2.144444444444445\n",
            "epoch: 000502  loss: -0.00000\n",
            "epoch: 000503  loss: -0.00000\n",
            "epoch: 000504  loss: -0.00001\n",
            "epoch: 000505  loss: -0.00000\n",
            "epoch: 000506  loss: -0.00000\n",
            "epoch: 000507  loss: -0.00000\n",
            "epoch: 000508  loss: -0.00000\n",
            "epoch: 000509  loss: -0.00000\n",
            "epoch: 000510  loss: -0.00000\n",
            "epoch: 000511  loss: -0.00000\n",
            "epoch: 000512  loss: -0.00000\n",
            "epoch: 000513  loss: -0.00000\n",
            "epoch: 000514  loss: -0.00000\n",
            "epoch: 000515  loss: -0.00000\n",
            "epoch: 000516  loss: -0.00000\n",
            "epoch: 000517  loss: -0.00000\n",
            "epoch: 000518  loss: -0.00000\n",
            "epoch: 000519  loss: -0.00000\n",
            "epoch: 000520  loss: -0.00000\n",
            "epoch: 000521  loss: -0.00000\n",
            "4.699999999999999 1.777777777777778\n",
            "epoch: 000522  loss: -0.00000\n",
            "epoch: 000523  loss: -0.00000\n",
            "epoch: 000524  loss: -0.00000\n",
            "epoch: 000525  loss: -0.00000\n",
            "epoch: 000526  loss: -0.00000\n",
            "epoch: 000527  loss: -0.00000\n",
            "epoch: 000528  loss: -0.00000\n",
            "epoch: 000529  loss: -0.00000\n",
            "epoch: 000530  loss: -0.00000\n",
            "epoch: 000531  loss: -0.00000\n",
            "epoch: 000532  loss: -0.00000\n",
            "epoch: 000533  loss: -0.00000\n",
            "epoch: 000534  loss: -0.00000\n",
            "epoch: 000535  loss: -0.00001\n",
            "epoch: 000536  loss: -0.00000\n",
            "epoch: 000537  loss: -0.00000\n",
            "epoch: 000538  loss: -0.00000\n",
            "epoch: 000539  loss: -0.00000\n",
            "epoch: 000540  loss: -0.00000\n",
            "epoch: 000541  loss: -0.00000\n",
            "5.283333333333333 1.963888888888889\n",
            "epoch: 000542  loss: -0.00000\n",
            "epoch: 000543  loss: -0.00000\n",
            "epoch: 000544  loss: -0.00000\n",
            "epoch: 000545  loss: -0.00000\n",
            "epoch: 000546  loss: -0.00000\n",
            "epoch: 000547  loss: -0.00000\n",
            "epoch: 000548  loss: -0.00000\n",
            "epoch: 000549  loss: -0.00000\n",
            "epoch: 000550  loss: -0.00000\n",
            "epoch: 000551  loss: -0.00000\n",
            "epoch: 000552  loss: -0.00000\n",
            "epoch: 000553  loss: -0.00000\n",
            "epoch: 000554  loss: -0.00000\n",
            "epoch: 000555  loss: -0.00000\n",
            "epoch: 000556  loss: -0.00000\n",
            "epoch: 000557  loss: -0.00000\n",
            "epoch: 000558  loss: -0.00000\n",
            "epoch: 000559  loss: -0.00000\n",
            "epoch: 000560  loss: -0.00000\n",
            "epoch: 000561  loss: -0.00000\n",
            "4.85 1.7027777777777775\n",
            "epoch: 000562  loss: -0.00000\n",
            "epoch: 000563  loss: -0.00000\n",
            "epoch: 000564  loss: -0.00000\n",
            "epoch: 000565  loss: -0.00000\n",
            "epoch: 000566  loss: -0.00000\n",
            "epoch: 000567  loss: -0.00001\n",
            "epoch: 000568  loss: -0.00000\n",
            "epoch: 000569  loss: -0.00001\n",
            "epoch: 000570  loss: -0.00001\n",
            "epoch: 000571  loss: -0.00000\n",
            "epoch: 000572  loss: -0.00001\n",
            "epoch: 000573  loss: -0.00001\n",
            "epoch: 000574  loss: -0.00000\n",
            "epoch: 000575  loss: -0.00000\n",
            "epoch: 000576  loss: -0.00000\n",
            "epoch: 000577  loss: -0.00000\n",
            "epoch: 000578  loss: -0.00001\n",
            "epoch: 000579  loss: -0.00000\n",
            "epoch: 000580  loss: -0.00001\n",
            "epoch: 000581  loss: -0.00001\n",
            "5.1000000000000005 2.0222222222222226\n",
            "epoch: 000582  loss: -0.00001\n",
            "epoch: 000583  loss: -0.00001\n",
            "epoch: 000584  loss: -0.00000\n",
            "epoch: 000585  loss: -0.00001\n",
            "epoch: 000586  loss: -0.00001\n",
            "epoch: 000587  loss: -0.00000\n",
            "epoch: 000588  loss: -0.00001\n",
            "epoch: 000589  loss: -0.00001\n",
            "epoch: 000590  loss: -0.00000\n",
            "epoch: 000591  loss: -0.00001\n",
            "epoch: 000592  loss: -0.00001\n",
            "epoch: 000593  loss: -0.00001\n",
            "epoch: 000594  loss: -0.00001\n",
            "epoch: 000595  loss: -0.00000\n",
            "epoch: 000596  loss: -0.00001\n",
            "epoch: 000597  loss: -0.00001\n",
            "epoch: 000598  loss: -0.00001\n",
            "epoch: 000599  loss: -0.00001\n",
            "epoch: 000600  loss: -0.00001\n",
            "epoch: 000601  loss: -0.00001\n",
            "4.7333333333333325 2.072222222222222\n",
            "epoch: 000602  loss: -0.00001\n",
            "epoch: 000603  loss: -0.00001\n",
            "epoch: 000604  loss: -0.00001\n",
            "epoch: 000605  loss: -0.00001\n",
            "epoch: 000606  loss: -0.00000\n",
            "epoch: 000607  loss: -0.00001\n",
            "epoch: 000608  loss: -0.00001\n",
            "epoch: 000609  loss: -0.00000\n",
            "epoch: 000610  loss: -0.00001\n",
            "epoch: 000611  loss: -0.00001\n",
            "epoch: 000612  loss: -0.00000\n",
            "epoch: 000613  loss: -0.00001\n",
            "epoch: 000614  loss: -0.00001\n",
            "epoch: 000615  loss: -0.00001\n",
            "epoch: 000616  loss: -0.00001\n",
            "epoch: 000617  loss: -0.00001\n",
            "epoch: 000618  loss: -0.00001\n",
            "epoch: 000619  loss: -0.00001\n",
            "epoch: 000620  loss: -0.00001\n",
            "epoch: 000621  loss: -0.00001\n",
            "4.783333333333333 1.9916666666666671\n",
            "epoch: 000622  loss: -0.00001\n",
            "epoch: 000623  loss: -0.00001\n",
            "epoch: 000624  loss: -0.00001\n",
            "epoch: 000625  loss: -0.00001\n",
            "epoch: 000626  loss: -0.00001\n",
            "epoch: 000627  loss: -0.00001\n",
            "epoch: 000628  loss: -0.00001\n",
            "epoch: 000629  loss: -0.00001\n",
            "epoch: 000630  loss: -0.00001\n",
            "epoch: 000631  loss: -0.00001\n",
            "epoch: 000632  loss: -0.00001\n",
            "epoch: 000633  loss: -0.00001\n",
            "epoch: 000634  loss: -0.00001\n",
            "epoch: 000635  loss: -0.00001\n",
            "epoch: 000636  loss: -0.00001\n",
            "epoch: 000637  loss: -0.00001\n",
            "epoch: 000638  loss: -0.00001\n",
            "epoch: 000639  loss: -0.00001\n",
            "epoch: 000640  loss: -0.00001\n",
            "epoch: 000641  loss: -0.00001\n",
            "5.133333333333333 2.4722222222222223\n",
            "epoch: 000642  loss: -0.00001\n",
            "epoch: 000643  loss: -0.00001\n",
            "epoch: 000644  loss: -0.00001\n",
            "epoch: 000645  loss: -0.00001\n",
            "epoch: 000646  loss: -0.00001\n",
            "epoch: 000647  loss: -0.00001\n",
            "epoch: 000648  loss: -0.00002\n",
            "epoch: 000649  loss: -0.00001\n",
            "epoch: 000650  loss: -0.00001\n",
            "epoch: 000651  loss: -0.00001\n",
            "epoch: 000652  loss: -0.00001\n",
            "epoch: 000653  loss: -0.00002\n",
            "epoch: 000654  loss: -0.00002\n",
            "epoch: 000655  loss: -0.00002\n",
            "epoch: 000656  loss: -0.00001\n",
            "epoch: 000657  loss: -0.00002\n",
            "epoch: 000658  loss: -0.00001\n",
            "epoch: 000659  loss: -0.00002\n",
            "epoch: 000660  loss: -0.00002\n",
            "epoch: 000661  loss: -0.00002\n",
            "4.883333333333334 1.7583333333333333\n",
            "epoch: 000662  loss: -0.00002\n",
            "epoch: 000663  loss: -0.00002\n",
            "epoch: 000664  loss: -0.00003\n",
            "epoch: 000665  loss: -0.00002\n",
            "epoch: 000666  loss: -0.00003\n",
            "epoch: 000667  loss: -0.00004\n",
            "epoch: 000668  loss: -0.00004\n",
            "epoch: 000669  loss: -0.00003\n",
            "epoch: 000670  loss: -0.00002\n",
            "epoch: 000671  loss: -0.00003\n",
            "epoch: 000672  loss: -0.00003\n",
            "epoch: 000673  loss: -0.00004\n",
            "epoch: 000674  loss: -0.00004\n",
            "epoch: 000675  loss: -0.00004\n",
            "epoch: 000676  loss: -0.00004\n",
            "epoch: 000677  loss: -0.00004\n",
            "epoch: 000678  loss: -0.00008\n",
            "epoch: 000679  loss: -0.00006\n",
            "epoch: 000680  loss: -0.00005\n",
            "epoch: 000681  loss: -0.00011\n",
            "5.0166666666666675 1.5972222222222219\n",
            "epoch: 000682  loss: -0.00007\n",
            "epoch: 000683  loss: -0.00009\n",
            "epoch: 000684  loss: -0.00008\n",
            "epoch: 000685  loss: -0.00018\n",
            "epoch: 000686  loss: -0.00017\n",
            "epoch: 000687  loss: -0.00021\n",
            "epoch: 000688  loss: -0.00049\n",
            "epoch: 000689  loss: -0.00045\n",
            "epoch: 000690  loss: -0.00076\n",
            "epoch: 000691  loss: -0.00191\n",
            "epoch: 000692  loss: -0.00573\n",
            "epoch: 000693  loss: -0.03041\n",
            "epoch: 000694  loss: -0.10064\n",
            "epoch: 000695  loss: -0.00004\n",
            "epoch: 000696  loss: -0.00002\n",
            "epoch: 000697  loss: -0.00004\n",
            "epoch: 000698  loss: -0.00005\n",
            "epoch: 000699  loss: -0.00004\n",
            "epoch: 000700  loss: -0.00007\n",
            "epoch: 000701  loss: -0.00016\n",
            "1.6666666666666667 0.9388888888888889\n",
            "epoch: 000702  loss: -0.00084\n",
            "epoch: 000703  loss: -0.00567\n",
            "epoch: 000704  loss: -0.00569\n",
            "epoch: 000705  loss: -0.01246\n",
            "epoch: 000706  loss: -0.04433\n",
            "epoch: 000707  loss: -0.02781\n",
            "epoch: 000708  loss: -0.01762\n",
            "epoch: 000709  loss: -0.00616\n",
            "epoch: 000710  loss: -0.02077\n",
            "epoch: 000711  loss: -0.03266\n",
            "epoch: 000712  loss: -0.00681\n",
            "epoch: 000713  loss: -0.02104\n",
            "epoch: 000714  loss: -0.04406\n",
            "epoch: 000715  loss: -0.04444\n",
            "epoch: 000716  loss: -0.04569\n",
            "epoch: 000717  loss: -0.06793\n",
            "epoch: 000718  loss: -0.04337\n",
            "epoch: 000719  loss: -0.02568\n",
            "epoch: 000720  loss: -0.00000\n",
            "epoch: 000721  loss: -0.00000\n",
            "3.8833333333333337 2.469444444444444\n",
            "epoch: 000722  loss: -0.00000\n",
            "epoch: 000723  loss: -0.00000\n",
            "epoch: 000724  loss: -0.00000\n",
            "epoch: 000725  loss: -0.00000\n",
            "epoch: 000726  loss: -0.00000\n",
            "epoch: 000727  loss: -0.00000\n",
            "epoch: 000728  loss: -0.00000\n",
            "epoch: 000729  loss: -0.00000\n",
            "epoch: 000730  loss: -0.00000\n",
            "epoch: 000731  loss: -0.00000\n",
            "epoch: 000732  loss: -0.00000\n",
            "epoch: 000733  loss: -0.00000\n",
            "epoch: 000734  loss: -0.00000\n",
            "epoch: 000735  loss: -0.00000\n",
            "epoch: 000736  loss: -0.00000\n",
            "epoch: 000737  loss: -0.00000\n",
            "epoch: 000738  loss: -0.00000\n",
            "epoch: 000739  loss: -0.00000\n",
            "epoch: 000740  loss: -0.00000\n",
            "epoch: 000741  loss: -0.00000\n",
            "3.883333333333333 2.3527777777777783\n",
            "epoch: 000742  loss: -0.00000\n",
            "epoch: 000743  loss: -0.00000\n",
            "epoch: 000744  loss: -0.00000\n",
            "epoch: 000745  loss: -0.00000\n",
            "epoch: 000746  loss: -0.00000\n",
            "epoch: 000747  loss: -0.00000\n",
            "epoch: 000748  loss: -0.00000\n",
            "epoch: 000749  loss: -0.00000\n",
            "epoch: 000750  loss: -0.00000\n",
            "epoch: 000751  loss: -0.00000\n",
            "epoch: 000752  loss: -0.00000\n",
            "epoch: 000753  loss: -0.00000\n",
            "epoch: 000754  loss: -0.00000\n",
            "epoch: 000755  loss: -0.00000\n",
            "epoch: 000756  loss: -0.00000\n",
            "epoch: 000757  loss: -0.00000\n",
            "epoch: 000758  loss: -0.00000\n",
            "epoch: 000759  loss: -0.00000\n",
            "epoch: 000760  loss: -0.00000\n",
            "epoch: 000761  loss: -0.00000\n",
            "4.116666666666667 2.5472222222222225\n",
            "epoch: 000762  loss: -0.00000\n",
            "epoch: 000763  loss: -0.00000\n",
            "epoch: 000764  loss: -0.00000\n",
            "epoch: 000765  loss: -0.00000\n",
            "epoch: 000766  loss: -0.00000\n",
            "epoch: 000767  loss: -0.00000\n",
            "epoch: 000768  loss: -0.00000\n",
            "epoch: 000769  loss: -0.00000\n",
            "epoch: 000770  loss: -0.00000\n",
            "epoch: 000771  loss: -0.00000\n",
            "epoch: 000772  loss: -0.00000\n",
            "epoch: 000773  loss: -0.00000\n",
            "epoch: 000774  loss: -0.00000\n",
            "epoch: 000775  loss: -0.00000\n",
            "epoch: 000776  loss: -0.00000\n",
            "epoch: 000777  loss: -0.00000\n",
            "epoch: 000778  loss: -0.00000\n",
            "epoch: 000779  loss: -0.00000\n",
            "epoch: 000780  loss: -0.00000\n",
            "epoch: 000781  loss: -0.00000\n",
            "4.383333333333334 2.4138888888888888\n",
            "epoch: 000782  loss: -0.00000\n",
            "epoch: 000783  loss: -0.00000\n",
            "epoch: 000784  loss: -0.00000\n",
            "epoch: 000785  loss: -0.00000\n",
            "epoch: 000786  loss: -0.00000\n",
            "epoch: 000787  loss: -0.00000\n",
            "epoch: 000788  loss: -0.00000\n",
            "epoch: 000789  loss: -0.00000\n",
            "epoch: 000790  loss: -0.00000\n",
            "epoch: 000791  loss: -0.00000\n",
            "epoch: 000792  loss: -0.00000\n",
            "epoch: 000793  loss: -0.00000\n",
            "epoch: 000794  loss: -0.00000\n",
            "epoch: 000795  loss: -0.00000\n",
            "epoch: 000796  loss: -0.00000\n",
            "epoch: 000797  loss: -0.00000\n",
            "epoch: 000798  loss: -0.00000\n",
            "epoch: 000799  loss: -0.00000\n",
            "epoch: 000800  loss: -0.00000\n",
            "epoch: 000801  loss: -0.00000\n"
          ]
        },
        {
          "data": {
            "text/html": [
              "Waiting for W&B process to finish... <strong style=\"color:green\">(success).</strong>"
            ],
            "text/plain": [
              "<IPython.core.display.HTML object>"
            ]
          },
          "metadata": {},
          "output_type": "display_data"
        },
        {
          "data": {
            "application/vnd.jupyter.widget-view+json": {
              "model_id": "b37c973bdfa7408b9e8e652d54eb7c9c",
              "version_major": 2,
              "version_minor": 0
            },
            "text/plain": [
              "VBox(children=(Label(value='0.001 MB of 0.001 MB uploaded (0.000 MB deduped)\\r'), FloatProgress(value=1.0, max…"
            ]
          },
          "metadata": {},
          "output_type": "display_data"
        },
        {
          "data": {
            "text/html": [
              "<style>\n",
              "    table.wandb td:nth-child(1) { padding: 0 10px; text-align: left ; width: auto;} td:nth-child(2) {text-align: left ; width: 100%}\n",
              "    .wandb-row { display: flex; flex-direction: row; flex-wrap: wrap; justify-content: flex-start; width: 100% }\n",
              "    .wandb-col { display: flex; flex-direction: column; flex-basis: 100%; flex: 1; padding: 10px; }\n",
              "    </style>\n",
              "<div class=\"wandb-row\"><div class=\"wandb-col\"><h3>Run history:</h3><br/><table class=\"wandb\"><tr><td>graph-unmasking/gen-loss</td><td>▇█▆▆▆▄▃▇▆▃▄▅▄▄▄▄▄▁▄▆▆▅▅▄▅▆▄▇▅▆▅▅▇▅▅▂▃▃▃▄</td></tr><tr><td>graph-unmasking/loss</td><td>█▄▆██████▁███████▆██████████████████████</td></tr><tr><td>mean degree</td><td>██▇▇█▇▆█▇▅▇▇▆▆▆▇▇▄▆▇▇▇▇▆▇▇▇█▇▇▇▇▇▇▇▁▅▅▆▆</td></tr><tr><td>mean degree var</td><td>▇█▅█▆▄▅▇▇▆▄▆▄▄▅▃▃▂▅▆▅▆▆▄▆▆▅▅▄▆▆▆█▅▄▁█▇█▇</td></tr><tr><td>num_parameters</td><td>▁</td></tr></table><br/></div><div class=\"wandb-col\"><h3>Run summary:</h3><br/><table class=\"wandb\"><tr><td>graph-unmasking/gen-loss</td><td>4.3275</td></tr><tr><td>graph-unmasking/loss</td><td>-0.0</td></tr><tr><td>mean degree</td><td>4.38333</td></tr><tr><td>mean degree var</td><td>2.41389</td></tr><tr><td>num_parameters</td><td>75194</td></tr></table><br/></div></div>"
            ],
            "text/plain": [
              "<IPython.core.display.HTML object>"
            ]
          },
          "metadata": {},
          "output_type": "display_data"
        },
        {
          "data": {
            "text/html": [
              " View run <strong style=\"color:#cdcd00\">wild-sweep-1</strong> at: <a href='https://wandb.ai/nextaid/toad_prepost/runs/00mvlb25' target=\"_blank\">https://wandb.ai/nextaid/toad_prepost/runs/00mvlb25</a><br/>Synced 5 W&B file(s), 0 media file(s), 0 artifact file(s) and 0 other file(s)"
            ],
            "text/plain": [
              "<IPython.core.display.HTML object>"
            ]
          },
          "metadata": {},
          "output_type": "display_data"
        },
        {
          "data": {
            "text/html": [
              "Find logs at: <code>./wandb/run-20230411_124555-00mvlb25/logs</code>"
            ],
            "text/plain": [
              "<IPython.core.display.HTML object>"
            ]
          },
          "metadata": {},
          "output_type": "display_data"
        },
        {
          "metadata": {
            "tags": null
          },
          "name": "stderr",
          "output_type": "stream",
          "text": [
            "\u001b[34m\u001b[1mwandb\u001b[0m: Sweep Agent: Waiting for job.\n",
            "\u001b[34m\u001b[1mwandb\u001b[0m: Job received.\n",
            "\u001b[34m\u001b[1mwandb\u001b[0m: Agent Starting Run: 7iq763wk with config:\n",
            "\u001b[34m\u001b[1mwandb\u001b[0m: \tbatch_size: 50\n",
            "\u001b[34m\u001b[1mwandb\u001b[0m: \tcandidate_selection_radius: 1\n",
            "\u001b[34m\u001b[1mwandb\u001b[0m: \tdropout: 0\n",
            "\u001b[34m\u001b[1mwandb\u001b[0m: \tgraph_transform: True\n",
            "\u001b[34m\u001b[1mwandb\u001b[0m: \thidden_dim: 32\n",
            "\u001b[34m\u001b[1mwandb\u001b[0m: \thidden_layer: 5\n",
            "\u001b[34m\u001b[1mwandb\u001b[0m: \tlearning_rate: 5e-05\n",
            "\u001b[34m\u001b[1mwandb\u001b[0m: \tloss: l2\n",
            "\u001b[34m\u001b[1mwandb\u001b[0m: \tmodel: pna\n",
            "\u001b[34m\u001b[1mwandb\u001b[0m: \tnoise_probability: 0.05\n",
            "\u001b[34m\u001b[1mwandb\u001b[0m: \tnormalization: True\n",
            "\u001b[34m\u001b[1mwandb\u001b[0m: \tpre_post_layers: 1\n",
            "\u001b[34m\u001b[1mwandb\u001b[0m: \tsingle_pass: False\n",
            "\u001b[34m\u001b[1mwandb\u001b[0m: \ttowers: 1\n"
          ]
        },
        {
          "data": {
            "text/html": [
              "Tracking run with wandb version 0.14.2"
            ],
            "text/plain": [
              "<IPython.core.display.HTML object>"
            ]
          },
          "metadata": {},
          "output_type": "display_data"
        },
        {
          "data": {
            "text/html": [
              "Run data is saved locally in <code>/content/wandb/run-20230412_031914-7iq763wk</code>"
            ],
            "text/plain": [
              "<IPython.core.display.HTML object>"
            ]
          },
          "metadata": {},
          "output_type": "display_data"
        },
        {
          "data": {
            "text/html": [
              "Syncing run <strong><a href='https://wandb.ai/nextaid/toad_prepost/runs/7iq763wk' target=\"_blank\">cerulean-sweep-2</a></strong> to <a href='https://wandb.ai/nextaid/toad_prepost' target=\"_blank\">Weights & Biases</a> (<a href='https://wandb.me/run' target=\"_blank\">docs</a>)<br/>Sweep page: <a href='https://wandb.ai/nextaid/toad_prepost/sweeps/04w4qh3j' target=\"_blank\">https://wandb.ai/nextaid/toad_prepost/sweeps/04w4qh3j</a>"
            ],
            "text/plain": [
              "<IPython.core.display.HTML object>"
            ]
          },
          "metadata": {},
          "output_type": "display_data"
        },
        {
          "data": {
            "text/html": [
              " View project at <a href='https://wandb.ai/nextaid/toad_prepost' target=\"_blank\">https://wandb.ai/nextaid/toad_prepost</a>"
            ],
            "text/plain": [
              "<IPython.core.display.HTML object>"
            ]
          },
          "metadata": {},
          "output_type": "display_data"
        },
        {
          "data": {
            "text/html": [
              " View sweep at <a href='https://wandb.ai/nextaid/toad_prepost/sweeps/04w4qh3j' target=\"_blank\">https://wandb.ai/nextaid/toad_prepost/sweeps/04w4qh3j</a>"
            ],
            "text/plain": [
              "<IPython.core.display.HTML object>"
            ]
          },
          "metadata": {},
          "output_type": "display_data"
        },
        {
          "data": {
            "text/html": [
              " View run at <a href='https://wandb.ai/nextaid/toad_prepost/runs/7iq763wk' target=\"_blank\">https://wandb.ai/nextaid/toad_prepost/runs/7iq763wk</a>"
            ],
            "text/plain": [
              "<IPython.core.display.HTML object>"
            ]
          },
          "metadata": {},
          "output_type": "display_data"
        },
        {
          "output_type": "stream",
          "name": "stdout",
          "text": [
            "04w4qh3j {'batch_size': 50, 'candidate_selection_radius': 1, 'dropout': 0, 'graph_transform': True, 'hidden_dim': 32, 'hidden_layer': 5, 'learning_rate': 5e-05, 'loss': 'l2', 'model': 'pna', 'noise_probability': 0.05, 'normalization': True, 'pre_post_layers': 1, 'single_pass': False, 'towers': 1}\n",
            "epoch: 000001  loss: -0.00001\n",
            "5.35 2.2194444444444446\n",
            "epoch: 000002  loss: -0.00005\n",
            "epoch: 000003  loss: -0.00012\n",
            "epoch: 000004  loss: -0.00046\n",
            "epoch: 000005  loss: -0.00135\n",
            "epoch: 000006  loss: -0.00297\n",
            "epoch: 000007  loss: -0.00566\n",
            "epoch: 000008  loss: -0.01399\n",
            "epoch: 000009  loss: -0.02557\n",
            "epoch: 000010  loss: -0.01830\n",
            "epoch: 000011  loss: -0.03209\n",
            "epoch: 000012  loss: -0.04341\n",
            "epoch: 000013  loss: -0.03273\n",
            "epoch: 000014  loss: -0.04840\n",
            "epoch: 000015  loss: -0.05595\n",
            "epoch: 000016  loss: -0.06375\n",
            "epoch: 000017  loss: -0.07935\n",
            "epoch: 000018  loss: -0.10891\n",
            "epoch: 000019  loss: -0.09688\n",
            "epoch: 000020  loss: -0.14499\n",
            "epoch: 000021  loss: -0.04393\n",
            "5.116666666666666 2.0972222222222223\n",
            "epoch: 000022  loss: -0.10332\n",
            "epoch: 000023  loss: -0.11840\n",
            "epoch: 000024  loss: -0.15946\n",
            "epoch: 000025  loss: -0.06211\n",
            "epoch: 000026  loss: -0.00723\n",
            "epoch: 000027  loss: -0.08401\n",
            "epoch: 000028  loss: -0.18002\n",
            "epoch: 000029  loss: -0.16316\n",
            "epoch: 000030  loss: -0.17721\n",
            "epoch: 000031  loss: -0.23614\n",
            "epoch: 000032  loss: -0.17971\n",
            "epoch: 000033  loss: -0.15009\n",
            "epoch: 000034  loss: -0.00228\n",
            "epoch: 000035  loss: -0.01968\n",
            "epoch: 000036  loss: -0.18299\n",
            "epoch: 000037  loss: -0.18124\n",
            "epoch: 000038  loss: -0.02873\n",
            "epoch: 000039  loss: -0.15414\n",
            "epoch: 000040  loss: -0.03594\n",
            "epoch: 000041  loss: -0.00021\n",
            "5.366666666666665 2.1833333333333336\n",
            "epoch: 000042  loss: -0.00017\n",
            "epoch: 000043  loss: -0.00015\n",
            "epoch: 000044  loss: -0.00020\n",
            "epoch: 000045  loss: -0.00026\n",
            "epoch: 000046  loss: -0.00020\n",
            "epoch: 000047  loss: -0.00023\n",
            "epoch: 000048  loss: -0.00017\n",
            "epoch: 000049  loss: -0.00034\n",
            "epoch: 000050  loss: -0.00039\n",
            "epoch: 000051  loss: -0.00041\n",
            "epoch: 000052  loss: -0.00051\n",
            "epoch: 000053  loss: -0.00062\n",
            "epoch: 000054  loss: -0.00076\n",
            "epoch: 000055  loss: -0.00091\n",
            "epoch: 000056  loss: -0.00162\n",
            "epoch: 000057  loss: -0.00394\n",
            "epoch: 000058  loss: -0.07680\n",
            "epoch: 000059  loss: -0.20555\n",
            "epoch: 000060  loss: -0.00202\n",
            "epoch: 000061  loss: -0.00082\n",
            "5.05 1.713888888888889\n",
            "epoch: 000062  loss: -0.00108\n",
            "epoch: 000063  loss: -0.00110\n",
            "epoch: 000064  loss: -0.00193\n",
            "epoch: 000065  loss: -0.00481\n",
            "epoch: 000066  loss: -0.04918\n",
            "epoch: 000067  loss: -0.19753\n",
            "epoch: 000068  loss: -0.22790\n",
            "epoch: 000069  loss: -0.07997\n",
            "epoch: 000070  loss: -0.03309\n",
            "epoch: 000071  loss: -0.06309\n",
            "epoch: 000072  loss: -0.21439\n",
            "epoch: 000073  loss: -0.05138\n",
            "epoch: 000074  loss: -0.00448\n",
            "epoch: 000075  loss: -0.07998\n",
            "epoch: 000076  loss: -0.17186\n",
            "epoch: 000077  loss: -0.21270\n",
            "epoch: 000078  loss: -0.26865\n",
            "epoch: 000079  loss: -0.04135\n",
            "epoch: 000080  loss: -0.00079\n",
            "epoch: 000081  loss: -0.00050\n",
            "4.716666666666667 1.3805555555555558\n",
            "epoch: 000082  loss: -0.00087\n",
            "epoch: 000083  loss: -0.00104\n",
            "epoch: 000084  loss: -0.00098\n",
            "epoch: 000085  loss: -0.00135\n",
            "epoch: 000086  loss: -0.00186\n",
            "epoch: 000087  loss: -0.00300\n",
            "epoch: 000088  loss: -0.00498\n",
            "epoch: 000089  loss: -0.05166\n",
            "epoch: 000090  loss: -0.22169\n",
            "epoch: 000091  loss: -0.16311\n",
            "epoch: 000092  loss: -0.00034\n",
            "epoch: 000093  loss: -0.00023\n",
            "epoch: 000094  loss: -0.00021\n",
            "epoch: 000095  loss: -0.00014\n",
            "epoch: 000096  loss: -0.00025\n",
            "epoch: 000097  loss: -0.00019\n",
            "epoch: 000098  loss: -0.00026\n",
            "epoch: 000099  loss: -0.00019\n",
            "epoch: 000100  loss: -0.00032\n",
            "epoch: 000101  loss: -0.00035\n",
            "5.216666666666667 2.2416666666666667\n",
            "epoch: 000102  loss: -0.00027\n",
            "epoch: 000103  loss: -0.00036\n",
            "epoch: 000104  loss: -0.00044\n",
            "epoch: 000105  loss: -0.00057\n",
            "epoch: 000106  loss: -0.00060\n",
            "epoch: 000107  loss: -0.00073\n",
            "epoch: 000108  loss: -0.00157\n",
            "epoch: 000109  loss: -0.00201\n",
            "epoch: 000110  loss: -0.00548\n",
            "epoch: 000111  loss: -0.05987\n",
            "epoch: 000112  loss: -0.05631\n",
            "epoch: 000113  loss: -0.10377\n",
            "epoch: 000114  loss: -0.04996\n",
            "epoch: 000115  loss: -0.00052\n",
            "epoch: 000116  loss: -0.00032\n",
            "epoch: 000117  loss: -0.00044\n",
            "epoch: 000118  loss: -0.00057\n",
            "epoch: 000119  loss: -0.00058\n",
            "epoch: 000120  loss: -0.00099\n",
            "epoch: 000121  loss: -0.00159\n",
            "3.5666666666666664 1.6888888888888887\n",
            "epoch: 000122  loss: -0.00412\n",
            "epoch: 000123  loss: -0.04248\n",
            "epoch: 000124  loss: -0.12191\n",
            "epoch: 000125  loss: -0.13414\n",
            "epoch: 000126  loss: -0.05143\n",
            "epoch: 000127  loss: -0.19133\n",
            "epoch: 000128  loss: -0.18669\n",
            "epoch: 000129  loss: -0.00252\n",
            "epoch: 000130  loss: -0.00143\n",
            "epoch: 000131  loss: -0.00378\n",
            "epoch: 000132  loss: -0.01806\n",
            "epoch: 000133  loss: -0.04942\n",
            "epoch: 000134  loss: -0.16667\n",
            "epoch: 000135  loss: -0.19658\n",
            "epoch: 000136  loss: -0.23561\n",
            "epoch: 000137  loss: -0.30868\n",
            "epoch: 000138  loss: -0.29427\n",
            "epoch: 000139  loss: -0.31538\n",
            "epoch: 000140  loss: -0.00536\n",
            "epoch: 000141  loss: -0.07459\n",
            "3.0333333333333337 0.9388888888888889\n",
            "epoch: 000142  loss: -0.22259\n",
            "epoch: 000143  loss: -0.00117\n",
            "epoch: 000144  loss: -0.00021\n",
            "epoch: 000145  loss: -0.00011\n",
            "epoch: 000146  loss: -0.00020\n",
            "epoch: 000147  loss: -0.00014\n",
            "epoch: 000148  loss: -0.00014\n",
            "epoch: 000149  loss: -0.00016\n",
            "epoch: 000150  loss: -0.00023\n",
            "epoch: 000151  loss: -0.00012\n",
            "epoch: 000152  loss: -0.00019\n",
            "epoch: 000153  loss: -0.00020\n",
            "epoch: 000154  loss: -0.00024\n",
            "epoch: 000155  loss: -0.00023\n",
            "epoch: 000156  loss: -0.00026\n",
            "epoch: 000157  loss: -0.00041\n",
            "epoch: 000158  loss: -0.00021\n",
            "epoch: 000159  loss: -0.00028\n",
            "epoch: 000160  loss: -0.00041\n",
            "epoch: 000161  loss: -0.00032\n",
            "3.5 0.9388888888888889\n",
            "epoch: 000162  loss: -0.00046\n",
            "epoch: 000163  loss: -0.00038\n",
            "epoch: 000164  loss: -0.00049\n",
            "epoch: 000165  loss: -0.00063\n",
            "epoch: 000166  loss: -0.00056\n",
            "epoch: 000167  loss: -0.00094\n",
            "epoch: 000168  loss: -0.00105\n",
            "epoch: 000169  loss: -0.00183\n",
            "epoch: 000170  loss: -0.00554\n",
            "epoch: 000171  loss: -0.07207\n",
            "epoch: 000172  loss: -0.09450\n",
            "epoch: 000173  loss: -0.18576\n",
            "epoch: 000174  loss: -0.01248\n",
            "epoch: 000175  loss: -0.20484\n",
            "epoch: 000176  loss: -0.20439\n",
            "epoch: 000177  loss: -0.26237\n",
            "epoch: 000178  loss: -0.23080\n",
            "epoch: 000179  loss: -0.29504\n",
            "epoch: 000180  loss: -0.25734\n",
            "epoch: 000181  loss: -0.34404\n",
            "1.75 0.5361111111111111\n",
            "epoch: 000182  loss: -0.36819\n",
            "epoch: 000183  loss: -0.17527\n",
            "epoch: 000184  loss: -0.00023\n",
            "epoch: 000185  loss: -0.00014\n",
            "epoch: 000186  loss: -0.00013\n",
            "epoch: 000187  loss: -0.00011\n",
            "epoch: 000188  loss: -0.00016\n",
            "epoch: 000189  loss: -0.00018\n",
            "epoch: 000190  loss: -0.00016\n",
            "epoch: 000191  loss: -0.00020\n",
            "epoch: 000192  loss: -0.00031\n",
            "epoch: 000193  loss: -0.00042\n",
            "epoch: 000194  loss: -0.00055\n",
            "epoch: 000195  loss: -0.01979\n",
            "epoch: 000196  loss: -0.10993\n",
            "epoch: 000197  loss: -0.31470\n",
            "epoch: 000198  loss: -0.21847\n",
            "epoch: 000199  loss: -0.07645\n",
            "epoch: 000200  loss: -0.00024\n",
            "epoch: 000201  loss: -0.00048\n",
            "5.483333333333333 1.7805555555555557\n",
            "epoch: 000202  loss: -0.00054\n",
            "epoch: 000203  loss: -0.00088\n",
            "epoch: 000204  loss: -0.00121\n",
            "epoch: 000205  loss: -0.01846\n",
            "epoch: 000206  loss: -0.06658\n",
            "epoch: 000207  loss: -0.12111\n",
            "epoch: 000208  loss: -0.32161\n",
            "epoch: 000209  loss: -0.24083\n",
            "epoch: 000210  loss: -0.00017\n",
            "epoch: 000211  loss: -0.00006\n",
            "epoch: 000212  loss: -0.00006\n",
            "epoch: 000213  loss: -0.00004\n",
            "epoch: 000214  loss: -0.00004\n",
            "epoch: 000215  loss: -0.00007\n",
            "epoch: 000216  loss: -0.00005\n",
            "epoch: 000217  loss: -0.00006\n",
            "epoch: 000218  loss: -0.00006\n",
            "epoch: 000219  loss: -0.00007\n",
            "epoch: 000220  loss: -0.00008\n",
            "epoch: 000221  loss: -0.00006\n",
            "5.366666666666666 2.2277777777777774\n",
            "epoch: 000222  loss: -0.00006\n",
            "epoch: 000223  loss: -0.00006\n",
            "epoch: 000224  loss: -0.00008\n",
            "epoch: 000225  loss: -0.00008\n",
            "epoch: 000226  loss: -0.00007\n",
            "epoch: 000227  loss: -0.00009\n",
            "epoch: 000228  loss: -0.00007\n",
            "epoch: 000229  loss: -0.00010\n",
            "epoch: 000230  loss: -0.00012\n",
            "epoch: 000231  loss: -0.00009\n",
            "epoch: 000232  loss: -0.00008\n",
            "epoch: 000233  loss: -0.00010\n",
            "epoch: 000234  loss: -0.00010\n",
            "epoch: 000235  loss: -0.00010\n",
            "epoch: 000236  loss: -0.00014\n",
            "epoch: 000237  loss: -0.00016\n",
            "epoch: 000238  loss: -0.00011\n",
            "epoch: 000239  loss: -0.00019\n",
            "epoch: 000240  loss: -0.00013\n",
            "epoch: 000241  loss: -0.00020\n",
            "5.066666666666667 2.3444444444444446\n",
            "epoch: 000242  loss: -0.00018\n",
            "epoch: 000243  loss: -0.00018\n",
            "epoch: 000244  loss: -0.00025\n",
            "epoch: 000245  loss: -0.00023\n",
            "epoch: 000246  loss: -0.00036\n",
            "epoch: 000247  loss: -0.00043\n",
            "epoch: 000248  loss: -0.00057\n",
            "epoch: 000249  loss: -0.00079\n",
            "epoch: 000250  loss: -0.00186\n",
            "epoch: 000251  loss: -0.06324\n",
            "epoch: 000252  loss: -0.00155\n",
            "epoch: 000253  loss: -0.00894\n",
            "epoch: 000254  loss: -0.05943\n",
            "epoch: 000255  loss: -0.14501\n",
            "epoch: 000256  loss: -0.15179\n",
            "epoch: 000257  loss: -0.01413\n",
            "epoch: 000258  loss: -0.06493\n",
            "epoch: 000259  loss: -0.24034\n",
            "epoch: 000260  loss: -0.23001\n",
            "epoch: 000261  loss: -0.00036\n",
            "5.183333333333334 2.3805555555555555\n",
            "epoch: 000262  loss: -0.00005\n",
            "epoch: 000263  loss: -0.00004\n",
            "epoch: 000264  loss: -0.00004\n",
            "epoch: 000265  loss: -0.00004\n",
            "epoch: 000266  loss: -0.00004\n",
            "epoch: 000267  loss: -0.00005\n",
            "epoch: 000268  loss: -0.00005\n",
            "epoch: 000269  loss: -0.00005\n",
            "epoch: 000270  loss: -0.00005\n",
            "epoch: 000271  loss: -0.00004\n",
            "epoch: 000272  loss: -0.00004\n",
            "epoch: 000273  loss: -0.00005\n",
            "epoch: 000274  loss: -0.00007\n",
            "epoch: 000275  loss: -0.00006\n",
            "epoch: 000276  loss: -0.00004\n",
            "epoch: 000277  loss: -0.00005\n",
            "epoch: 000278  loss: -0.00007\n",
            "epoch: 000279  loss: -0.00005\n",
            "epoch: 000280  loss: -0.00005\n",
            "epoch: 000281  loss: -0.00007\n",
            "5.166666666666666 2.6333333333333333\n",
            "epoch: 000282  loss: -0.00007\n",
            "epoch: 000283  loss: -0.00008\n",
            "epoch: 000284  loss: -0.00006\n",
            "epoch: 000285  loss: -0.00006\n"
          ]
        },
        {
          "output_type": "stream",
          "name": "stderr",
          "text": [
            "\u001b[34m\u001b[1mwandb\u001b[0m: Ctrl + C detected. Stopping sweep.\n"
          ]
        },
        {
          "output_type": "display_data",
          "data": {
            "text/plain": [
              "<Figure size 640x480 with 1 Axes>"
            ],
            "image/png": "[encoded data removed]"
          },
          "metadata": {}
        }
      ],
      "source": [
        "os.environ[\"WANDB_MODE\"] = \"online\" #\"dryrun\"\n",
        "\n",
        "SWEEP_ID = wandb.sweep(sweep_config, project=PROJECT_NAME)\n",
        "wandb.agent(SWEEP_ID, project=PROJECT_NAME, function=start_agent_envelope, count=500)"
      ]
    },
    {
      "cell_type": "code",
      "execution_count": null,
      "metadata": {
        "id": "DHcAvy-w6Zlu"
      },
      "outputs": [],
      "source": []
    }
  ],
  "metadata": {
    "accelerator": "GPU",
    "colab": {
      "provenance": [],
      "authorship_tag": "ABX9TyPcmhUwr+v7QM1xkD2fBGAb",
      "include_colab_link": true
    },
    "gpuClass": "standard",
    "kernelspec": {
      "display_name": "Python 3",
      "name": "python3"
    },
    "language_info": {
      "name": "python"
    }
  },
  "nbformat": 4,
  "nbformat_minor": 0
}